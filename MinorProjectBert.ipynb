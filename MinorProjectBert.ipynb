{
 "cells": [
  {
   "cell_type": "code",
   "execution_count": 1,
   "metadata": {
    "colab": {
     "base_uri": "https://localhost:8080/"
    },
    "id": "MEdHOYr770F7",
    "outputId": "dc7816a5-fa2f-4a10-adb7-d7b34762cd55"
   },
   "outputs": [
    {
     "name": "stderr",
     "output_type": "stream",
     "text": [
      "/Library/Frameworks/Python.framework/Versions/3.12/lib/python3.12/site-packages/tqdm/auto.py:21: TqdmWarning: IProgress not found. Please update jupyter and ipywidgets. See https://ipywidgets.readthedocs.io/en/stable/user_install.html\n",
      "  from .autonotebook import tqdm as notebook_tqdm\n"
     ]
    },
    {
     "name": "stdout",
     "output_type": "stream",
     "text": [
      "4.39.3\n"
     ]
    }
   ],
   "source": [
    "import transformers\n",
    "print(transformers.__version__)"
   ]
  },
  {
   "cell_type": "code",
   "execution_count": null,
   "metadata": {
    "id": "2iaDIZ9J-kKB"
   },
   "outputs": [],
   "source": [
    "!pip install --upgrade transformers"
   ]
  },
  {
   "cell_type": "code",
   "execution_count": 2,
   "metadata": {
    "id": "pZIBAoQs8RYN"
   },
   "outputs": [],
   "source": [
    "import tensorflow as tf\n",
    "from transformers import BertTokenizer, TFBertForMaskedLM\n",
    "import os\n",
    "import numpy as np\n",
    "import re\n",
    "import matplotlib.pyplot as plt\n",
    "import random"
   ]
  },
  {
   "cell_type": "code",
   "execution_count": null,
   "metadata": {
    "colab": {
     "base_uri": "https://localhost:8080/",
     "height": 272,
     "referenced_widgets": [
      "66d6f6f4da59498ebc9a05e199679344",
      "054efc002fcd4d639dc84c6eeccdbbc4",
      "bdc0e65eaeca4926af2690bd1ab34d04",
      "2b46cc678efe4c9d91d723239b698a45",
      "8e941cb818674e8c8460ef43241d79d1",
      "1658af9ee70c494b8aa1fead851e51b8",
      "bf554937ebad466eb834586a73cff5b7",
      "0b51d89ecdfd41bc8769e9f96a9829c5",
      "245ad48689d94b88b221dff8203fd3d5",
      "ce90088977ce409693f5f9c2cc0f6ad9",
      "2f488c69ab6748f9981f4f2fc00d7810",
      "3e30dc44c428476dbc7e32d2d722c0b7",
      "58e7588ea7c8407caca8fa86aa013430",
      "9b542b7ea8c1488790c9e4db3c5e7c61",
      "540e31cf3366492680dc80a73b2235c7",
      "9a727d2ef5dd461391e470831f94d98f",
      "46fc6c8a26374b6599f63aa91b7b2a46",
      "ddb2627168d145088cc782489efc42be",
      "e98e31a7e61e483186fd6c3459b4bc29",
      "7e1821e352894d278e20d0600f361466",
      "2d2b0e7c5c3448cbb71c688bf4dcbc96",
      "4ff3795800b8452c9ce926afca0908de",
      "ef463b210cfe4e5b9ff55a30e74bccbd",
      "9c5ab3a9241f43468bb7a9d51aa6b697",
      "6ee6613b41774276b22e633f6c72ed53",
      "e8a2af96ec5743ae82a629a3b592119c",
      "88ea125569cc477caf329b32c819bbb9",
      "16f679d02d304383b16a970a4135193d",
      "2baafbf1de434b99bce8f0dd72bb9480",
      "f2ba652a6bb54a56bedacc67ddd37bc6",
      "367f888e2bea4cb49ef7234f2842f1ef",
      "716a71aa693d47d0a00d3ed0b4418f19",
      "be7852964c3146d188c1556401fcce33",
      "4abcaba9af274b57934e617e094b2efc",
      "a75699cee802432ea600d881b5354221",
      "9a09b1460e8c4be79a12c55d157730d8",
      "0eb09d3faa0c4a1a936dd48bd5bb417a",
      "3b24f19f563444d78b1147c3a55bdf68",
      "a7e3ff705a5b4b1f994d7568c56ca246",
      "83afcc03ffad4b3f923badc9459f9919",
      "ba5e1ee36c434fafbaf3fbaa7e9714f8",
      "6d163bf390ab48b189127b91708b66ed",
      "1c3f6611ab2b4235b2fe5a0a24f0a0cb",
      "9418e14a8b1c4b1fa1a112044a9e4f45"
     ]
    },
    "id": "OASCnTQuA1Jw",
    "outputId": "b80a979c-e8ec-485b-87db-b5bc3a20d7fd"
   },
   "outputs": [
    {
     "name": "stderr",
     "output_type": "stream",
     "text": [
      "/usr/local/lib/python3.10/dist-packages/huggingface_hub/utils/_token.py:88: UserWarning: \n",
      "The secret `HF_TOKEN` does not exist in your Colab secrets.\n",
      "To authenticate with the Hugging Face Hub, create a token in your settings tab (https://huggingface.co/settings/tokens), set it as secret in your Google Colab and restart your session.\n",
      "You will be able to reuse this secret in all of your notebooks.\n",
      "Please note that authentication is recommended but still optional to access public models or datasets.\n",
      "  warnings.warn(\n"
     ]
    },
    {
     "data": {
      "application/vnd.jupyter.widget-view+json": {
       "model_id": "66d6f6f4da59498ebc9a05e199679344",
       "version_major": 2,
       "version_minor": 0
      },
      "text/plain": [
       "tokenizer_config.json:   0%|          | 0.00/48.0 [00:00<?, ?B/s]"
      ]
     },
     "metadata": {},
     "output_type": "display_data"
    },
    {
     "data": {
      "application/vnd.jupyter.widget-view+json": {
       "model_id": "3e30dc44c428476dbc7e32d2d722c0b7",
       "version_major": 2,
       "version_minor": 0
      },
      "text/plain": [
       "vocab.txt:   0%|          | 0.00/232k [00:00<?, ?B/s]"
      ]
     },
     "metadata": {},
     "output_type": "display_data"
    },
    {
     "data": {
      "application/vnd.jupyter.widget-view+json": {
       "model_id": "ef463b210cfe4e5b9ff55a30e74bccbd",
       "version_major": 2,
       "version_minor": 0
      },
      "text/plain": [
       "tokenizer.json:   0%|          | 0.00/466k [00:00<?, ?B/s]"
      ]
     },
     "metadata": {},
     "output_type": "display_data"
    },
    {
     "data": {
      "application/vnd.jupyter.widget-view+json": {
       "model_id": "4abcaba9af274b57934e617e094b2efc",
       "version_major": 2,
       "version_minor": 0
      },
      "text/plain": [
       "config.json:   0%|          | 0.00/570 [00:00<?, ?B/s]"
      ]
     },
     "metadata": {},
     "output_type": "display_data"
    }
   ],
   "source": [
    "tokenizer = BertTokenizer.from_pretrained('bert-base-uncased')"
   ]
  },
  {
   "cell_type": "code",
   "execution_count": null,
   "metadata": {
    "colab": {
     "base_uri": "https://localhost:8080/"
    },
    "id": "XOprJKBZhZUW",
    "outputId": "796e72be-8dc9-4040-9b2c-f1924dbbb93e"
   },
   "outputs": [
    {
     "data": {
      "text/plain": [
       "('/content/drive/MyDrive/MINORPROJECT/tokenizer_config.json',\n",
       " '/content/drive/MyDrive/MINORPROJECT/special_tokens_map.json',\n",
       " '/content/drive/MyDrive/MINORPROJECT/vocab.txt',\n",
       " '/content/drive/MyDrive/MINORPROJECT/added_tokens.json')"
      ]
     },
     "execution_count": 14,
     "metadata": {},
     "output_type": "execute_result"
    }
   ],
   "source": [
    "# Save the tokenizer\n",
    "tokenizer.save_pretrained('/content/drive/MyDrive/MINORPROJECT')\n",
    "\n",
    "\n"
   ]
  },
  {
   "cell_type": "code",
   "execution_count": 3,
   "metadata": {},
   "outputs": [
    {
     "data": {
      "text/plain": [
       "'/Users/ravi/Downloads'"
      ]
     },
     "execution_count": 3,
     "metadata": {},
     "output_type": "execute_result"
    }
   ],
   "source": [
    "pwd"
   ]
  },
  {
   "cell_type": "code",
   "execution_count": 4,
   "metadata": {},
   "outputs": [
    {
     "name": "stdout",
     "output_type": "stream",
     "text": [
      "205122077_Minor_Project.pdf  NITTIDCARD.pdf\n",
      "\u001b[34mMINORPROJECT_Model\u001b[m\u001b[m/          PlacementRavi.txt\n",
      "MinorProjectBert.ipynb\n"
     ]
    }
   ],
   "source": [
    "ls"
   ]
  },
  {
   "cell_type": "code",
   "execution_count": 5,
   "metadata": {
    "id": "UTR1jCrhhcKA"
   },
   "outputs": [],
   "source": [
    "# Load the tokenizer\n",
    "tokenizer = BertTokenizer.from_pretrained('/Users/ravi/Downloads/MINORPROJECT_Model')"
   ]
  },
  {
   "cell_type": "code",
   "execution_count": 6,
   "metadata": {
    "id": "4Zl11XJ48VUf"
   },
   "outputs": [],
   "source": [
    "def clean_text(line):\n",
    "    line = re.sub(r'-+',' ',line) #Removes repeated hyphens (e.g., '---' becomes ' ')\n",
    "    line = re.sub(r'[^a-zA-Z, ]+',\" \",line) #Removes non-alphanumeric characters except for spaces and commas (e.g., '!\"#$%&()*+' becomes ' ')\n",
    "    line = re.sub(r'[ ]+',\" \",line)#Replaces multiple spaces with a single space\n",
    "    return line"
   ]
  },
  {
   "cell_type": "code",
   "execution_count": 7,
   "metadata": {
    "id": "b_NCuhG-8Yoe"
   },
   "outputs": [],
   "source": [
    "def random_mask(text, mask_rate=0.15):\n",
    "    \"\"\"Masks a random subset of words in the text with a specified mask rate.\"\"\"\n",
    "    tokenized_text = tokenizer.tokenize(text)\n",
    "    num_mask = int(len(tokenized_text) * mask_rate)\n",
    "    mask_indices = random.sample(range(len(tokenized_text)), num_mask)\n",
    "    for idx in mask_indices:\n",
    "        tokenized_text[idx] = '[MASK]'\n",
    "    return tokenizer.convert_tokens_to_string(tokenized_text)\n"
   ]
  },
  {
   "cell_type": "code",
   "execution_count": 11,
   "metadata": {
    "colab": {
     "base_uri": "https://localhost:8080/"
    },
    "id": "p4Fey5YIIohf",
    "outputId": "efb19c54-ff1d-4246-ced7-4c8bb9ba68c4"
   },
   "outputs": [
    {
     "name": "stdout",
     "output_type": "stream",
     "text": [
      "we first construct a [MASK]negative dictionary based on prototype elements from the training images ; this [MASK] [MASK] formulated as [MASK] regularized non - [MASK] matrix . incorporating the dictionary as a [MASK] in a convex reconstruction [MASK] , we [MASK] find an approximate solution with a sparse representation in the dictionary .\n"
     ]
    }
   ],
   "source": [
    "text = '''We first construct a nonnegative dictionary based on prototype elements from the training images; this problem is formulated as a regularized non-negative matrix. Incorporating the dictionary as a prior in a convex reconstruction problem, we then find an approximate solution with a sparse representation in the dictionary.'''\n",
    "\n",
    "print(random_mask(text))"
   ]
  },
  {
   "cell_type": "code",
   "execution_count": 9,
   "metadata": {
    "id": "SU393cNy8bc0"
   },
   "outputs": [],
   "source": [
    "def prepare_data(data_file, max_length=128):\n",
    "\n",
    "    inputs = []\n",
    "    attention_masks = []\n",
    "    labels = []\n",
    "    with open(data_file, 'r', encoding='utf-8') as f:\n",
    "        lines = f.readlines()\n",
    "\n",
    "    for line in lines:\n",
    "        # Clean the text before further processing\n",
    "        cleaned_line = clean_text(line.strip())\n",
    "\n",
    "        if len(cleaned_line.split(\" \")) >= 20:  # Minimum word count filter\n",
    "            masked_text = random_mask(cleaned_line)\n",
    "            tokenized_text = tokenizer(masked_text, add_special_tokens=True, truncation=True, padding='max_length', return_tensors='tf')\n",
    "            # print(\"tokenized text\", tokenized_text)\n",
    "            input_ids = tokenized_text['input_ids']\n",
    "            attention_mask = tokenized_text['attention_mask']\n",
    "            inputs.append(input_ids)\n",
    "            attention_masks.append(attention_mask)\n",
    "            labels.append(tokenizer(cleaned_line, add_special_tokens=True, truncation=True, padding='max_length', return_tensors='tf')['input_ids'])\n",
    "\n",
    "    inputs = tf.concat(inputs, axis=0)\n",
    "    attention_masks = tf.concat(attention_masks, axis=0)\n",
    "    labels = tf.concat(labels, axis=0)\n",
    "\n",
    "    return inputs, attention_masks, labels"
   ]
  },
  {
   "cell_type": "code",
   "execution_count": null,
   "metadata": {
    "colab": {
     "base_uri": "https://localhost:8080/"
    },
    "id": "AFaOCh7w8c_b",
    "outputId": "44be13ac-f76e-45ff-8a58-e814da37e2a0"
   },
   "outputs": [
    {
     "name": "stdout",
     "output_type": "stream",
     "text": [
      "Number of processed lines: 2963\n",
      "Sample input IDs shape: (512,)\n",
      "Sample attention mask shape: (512,)\n",
      "Sample labels shape: (512,)\n"
     ]
    }
   ],
   "source": [
    "\n",
    "data_file = \"/content/drive/MyDrive/MINORPROJECT/train.txt\"\n",
    "\n",
    "\n",
    "inputs, attention_masks, labels = prepare_data(data_file)\n",
    "\n",
    "print(f\"Number of processed lines: {inputs.shape[0]}\")\n",
    "print(f\"Sample input IDs shape: {inputs[0].shape}\")\n",
    "print(f\"Sample attention mask shape: {attention_masks[0].shape}\")\n",
    "print(f\"Sample labels shape: {labels[0].shape}\")"
   ]
  },
  {
   "cell_type": "code",
   "execution_count": null,
   "metadata": {
    "colab": {
     "base_uri": "https://localhost:8080/",
     "height": 140,
     "referenced_widgets": [
      "b6b6c8b60b0945d7acba24d4e4d6f961",
      "ef2e4ef640c44b6bae784ec5512ccfd5",
      "7ecc6a6bb52a406fb8f2f81b99255431",
      "2c10abce36e54d78ae19577647852123",
      "753fcb0a1ec6422590416c31d4f22024",
      "03f2817eca57415fb19869582ac4ad0a",
      "dcb390e1fd714b8dbc833443d4b3dd0f",
      "948c71f437094829bab763ccf338bd6b",
      "24f5895fc7af495798005b582ecf0563",
      "e2c8e16134264c1c8d121ef0925fa21a",
      "4d02768ccbb543c4b5a111123e477089"
     ]
    },
    "id": "6oTTLL2T8imu",
    "outputId": "24b5c55e-d43b-4e58-f270-9a449bb4a76f"
   },
   "outputs": [
    {
     "data": {
      "application/vnd.jupyter.widget-view+json": {
       "model_id": "b6b6c8b60b0945d7acba24d4e4d6f961",
       "version_major": 2,
       "version_minor": 0
      },
      "text/plain": [
       "model.safetensors:   0%|          | 0.00/440M [00:00<?, ?B/s]"
      ]
     },
     "metadata": {},
     "output_type": "display_data"
    },
    {
     "name": "stderr",
     "output_type": "stream",
     "text": [
      "All PyTorch model weights were used when initializing TFBertForMaskedLM.\n",
      "\n",
      "All the weights of TFBertForMaskedLM were initialized from the PyTorch model.\n",
      "If your task is similar to the task the model of the checkpoint was trained on, you can already use TFBertForMaskedLM for predictions without further training.\n"
     ]
    }
   ],
   "source": [
    "model = TFBertForMaskedLM.from_pretrained('bert-base-uncased')\n",
    "model.compile(optimizer=tf.keras.optimizers.Adam(learning_rate=0.0001),\n",
    "              loss=tf.keras.losses.SparseCategoricalCrossentropy(from_logits=True))\n",
    "\n",
    "\n",
    "\n"
   ]
  },
  {
   "cell_type": "code",
   "execution_count": null,
   "metadata": {
    "colab": {
     "base_uri": "https://localhost:8080/"
    },
    "id": "PfNi2QOK8k-9",
    "outputId": "2fd91972-1fc7-46c6-e5ed-747dd5a4ddd2"
   },
   "outputs": [
    {
     "name": "stderr",
     "output_type": "stream",
     "text": [
      "/usr/local/lib/python3.10/dist-packages/tensorflow/python/data/ops/structured_function.py:258: UserWarning: Even though the `tf.config.experimental_run_functions_eagerly` option is set, this option does not apply to tf.data functions. To force eager execution of tf.data functions, please use `tf.data.experimental.enable_debug_mode()`.\n",
      "  warnings.warn(\n"
     ]
    },
    {
     "name": "stdout",
     "output_type": "stream",
     "text": [
      "Epoch 1/10\n",
      "741/741 [==============================] - 897s 1s/step - loss: 0.6626\n",
      "Epoch 2/10\n",
      "741/741 [==============================] - 886s 1s/step - loss: 0.3633\n",
      "Epoch 3/10\n",
      "741/741 [==============================] - 898s 1s/step - loss: 0.2749\n",
      "Epoch 4/10\n",
      "741/741 [==============================] - 898s 1s/step - loss: 0.2139\n",
      "Epoch 5/10\n",
      "741/741 [==============================] - 905s 1s/step - loss: 0.1733\n",
      "Epoch 6/10\n",
      "741/741 [==============================] - 916s 1s/step - loss: 0.1409\n",
      "Epoch 7/10\n",
      "741/741 [==============================] - 911s 1s/step - loss: 0.1091\n",
      "Epoch 8/10\n",
      "741/741 [==============================] - 908s 1s/step - loss: 0.0895\n",
      "Epoch 9/10\n",
      "741/741 [==============================] - 913s 1s/step - loss: 0.0761\n",
      "Epoch 10/10\n",
      "741/741 [==============================] - 904s 1s/step - loss: 0.0705\n"
     ]
    }
   ],
   "source": [
    "tf.config.run_functions_eagerly(True)\n",
    "\n",
    "history = model.fit([inputs, attention_masks], labels, verbose=1, batch_size=4, epochs=10)"
   ]
  },
  {
   "cell_type": "code",
   "execution_count": null,
   "metadata": {
    "id": "lZeo4xWwdJKA"
   },
   "outputs": [],
   "source": [
    "# Save the model\n",
    "model.save_pretrained('/content/drive/MyDrive/MINORPROJECT')\n",
    "\n",
    "\n"
   ]
  },
  {
   "cell_type": "code",
   "execution_count": 12,
   "metadata": {
    "colab": {
     "base_uri": "https://localhost:8080/",
     "height": 478
    },
    "id": "cyiGeU7lgLpx",
    "outputId": "97f99b3f-d542-45c9-ffc9-8660d7788385"
   },
   "outputs": [
    {
     "name": "stderr",
     "output_type": "stream",
     "text": [
      "All model checkpoint layers were used when initializing TFBertForMaskedLM.\n",
      "\n",
      "All the layers of TFBertForMaskedLM were initialized from the model checkpoint at /Users/ravi/Downloads/MINORPROJECT_Model.\n",
      "If your task is similar to the task the model of the checkpoint was trained on, you can already use TFBertForMaskedLM for predictions without further training.\n"
     ]
    }
   ],
   "source": [
    "# Load the model\n",
    "model = TFBertForMaskedLM.from_pretrained('/Users/ravi/Downloads/MINORPROJECT_Model')"
   ]
  },
  {
   "cell_type": "code",
   "execution_count": null,
   "metadata": {
    "colab": {
     "base_uri": "https://localhost:8080/",
     "height": 487
    },
    "id": "ZUgKUH_zBtoY",
    "outputId": "b174aa30-7e76-4b79-9577-bec2fb7288f7"
   },
   "outputs": [
    {
     "data": {
      "image/png": "[encoded data removed]",
      "text/plain": [
       "<Figure size 500x500 with 1 Axes>"
      ]
     },
     "metadata": {},
     "output_type": "display_data"
    }
   ],
   "source": [
    "losses = history.history['loss']\n",
    "fig = plt.figure(figsize=(5,5))\n",
    "ax1 = fig.add_subplot(111)\n",
    "ax1.plot(range(len(losses)),losses)\n",
    "ax1.set_xlabel(\"Epochs\")\n",
    "ax1.set_ylabel(\"Loss\")\n",
    "ax1.set_title(\"Epoch vs Loss\")\n",
    "plt.grid()\n",
    "plt.show()"
   ]
  },
  {
   "cell_type": "code",
   "execution_count": 15,
   "metadata": {
    "id": "jbLeHniYCCim"
   },
   "outputs": [
    {
     "name": "stdout",
     "output_type": "stream",
     "text": [
      "Requirement already satisfied: nltk in /Library/Frameworks/Python.framework/Versions/3.12/lib/python3.12/site-packages (3.8.1)\n",
      "Requirement already satisfied: click in /Library/Frameworks/Python.framework/Versions/3.12/lib/python3.12/site-packages (from nltk) (8.1.7)\n",
      "Requirement already satisfied: joblib in /Library/Frameworks/Python.framework/Versions/3.12/lib/python3.12/site-packages (from nltk) (1.3.2)\n",
      "Requirement already satisfied: regex>=2021.8.3 in /Library/Frameworks/Python.framework/Versions/3.12/lib/python3.12/site-packages (from nltk) (2023.12.25)\n",
      "Requirement already satisfied: tqdm in /Library/Frameworks/Python.framework/Versions/3.12/lib/python3.12/site-packages (from nltk) (4.66.2)\n",
      "Requirement already satisfied: rake_nltk in /Library/Frameworks/Python.framework/Versions/3.12/lib/python3.12/site-packages (1.0.6)\n",
      "Requirement already satisfied: nltk<4.0.0,>=3.6.2 in /Library/Frameworks/Python.framework/Versions/3.12/lib/python3.12/site-packages (from rake_nltk) (3.8.1)\n",
      "Requirement already satisfied: click in /Library/Frameworks/Python.framework/Versions/3.12/lib/python3.12/site-packages (from nltk<4.0.0,>=3.6.2->rake_nltk) (8.1.7)\n",
      "Requirement already satisfied: joblib in /Library/Frameworks/Python.framework/Versions/3.12/lib/python3.12/site-packages (from nltk<4.0.0,>=3.6.2->rake_nltk) (1.3.2)\n",
      "Requirement already satisfied: regex>=2021.8.3 in /Library/Frameworks/Python.framework/Versions/3.12/lib/python3.12/site-packages (from nltk<4.0.0,>=3.6.2->rake_nltk) (2023.12.25)\n",
      "Requirement already satisfied: tqdm in /Library/Frameworks/Python.framework/Versions/3.12/lib/python3.12/site-packages (from nltk<4.0.0,>=3.6.2->rake_nltk) (4.66.2)\n"
     ]
    },
    {
     "name": "stderr",
     "output_type": "stream",
     "text": [
      "[nltk_data] Error loading stopwords: <urlopen error [SSL:\n",
      "[nltk_data]     CERTIFICATE_VERIFY_FAILED] certificate verify failed:\n",
      "[nltk_data]     unable to get local issuer certificate (_ssl.c:1000)>\n",
      "[nltk_data] Error loading punkt: <urlopen error [SSL:\n",
      "[nltk_data]     CERTIFICATE_VERIFY_FAILED] certificate verify failed:\n",
      "[nltk_data]     unable to get local issuer certificate (_ssl.c:1000)>\n"
     ]
    },
    {
     "data": {
      "text/plain": [
       "False"
      ]
     },
     "execution_count": 15,
     "metadata": {},
     "output_type": "execute_result"
    }
   ],
   "source": [
    "!pip install nltk\n",
    "!pip install rake_nltk\n",
    "import nltk,rake_nltk\n",
    "nltk.download('stopwords')\n",
    "nltk.download('punkt')"
   ]
  },
  {
   "cell_type": "code",
   "execution_count": 16,
   "metadata": {},
   "outputs": [
    {
     "name": "stderr",
     "output_type": "stream",
     "text": [
      "[nltk_data] Error loading stopwords: <urlopen error [SSL:\n",
      "[nltk_data]     CERTIFICATE_VERIFY_FAILED] certificate verify failed:\n",
      "[nltk_data]     unable to get local issuer certificate (_ssl.c:1000)>\n"
     ]
    },
    {
     "data": {
      "text/plain": [
       "False"
      ]
     },
     "execution_count": 16,
     "metadata": {},
     "output_type": "execute_result"
    }
   ],
   "source": [
    "nltk.download('stopwords')"
   ]
  },
  {
   "cell_type": "code",
   "execution_count": 14,
   "metadata": {
    "colab": {
     "base_uri": "https://localhost:8080/"
    },
    "id": "XbpV0xX-CKaI",
    "outputId": "eb64b3e4-3be7-4258-b012-5ec36fe88a5d"
   },
   "outputs": [
    {
     "ename": "LookupError",
     "evalue": "\n**********************************************************************\n  Resource \u001b[93mstopwords\u001b[0m not found.\n  Please use the NLTK Downloader to obtain the resource:\n\n  \u001b[31m>>> import nltk\n  >>> nltk.download('stopwords')\n  \u001b[0m\n  For more information see: https://www.nltk.org/data.html\n\n  Attempted to load \u001b[93mcorpora/stopwords\u001b[0m\n\n  Searched in:\n    - '/Users/ravi/nltk_data'\n    - '/Library/Frameworks/Python.framework/Versions/3.12/nltk_data'\n    - '/Library/Frameworks/Python.framework/Versions/3.12/share/nltk_data'\n    - '/Library/Frameworks/Python.framework/Versions/3.12/lib/nltk_data'\n    - '/usr/share/nltk_data'\n    - '/usr/local/share/nltk_data'\n    - '/usr/lib/nltk_data'\n    - '/usr/local/lib/nltk_data'\n**********************************************************************\n",
     "output_type": "error",
     "traceback": [
      "\u001b[0;31m---------------------------------------------------------------------------\u001b[0m",
      "\u001b[0;31mLookupError\u001b[0m                               Traceback (most recent call last)",
      "File \u001b[0;32m/Library/Frameworks/Python.framework/Versions/3.12/lib/python3.12/site-packages/nltk/corpus/util.py:84\u001b[0m, in \u001b[0;36mLazyCorpusLoader.__load\u001b[0;34m(self)\u001b[0m\n\u001b[1;32m     83\u001b[0m \u001b[38;5;28;01mtry\u001b[39;00m:\n\u001b[0;32m---> 84\u001b[0m     root \u001b[38;5;241m=\u001b[39m \u001b[43mnltk\u001b[49m\u001b[38;5;241;43m.\u001b[39;49m\u001b[43mdata\u001b[49m\u001b[38;5;241;43m.\u001b[39;49m\u001b[43mfind\u001b[49m\u001b[43m(\u001b[49m\u001b[38;5;124;43mf\u001b[39;49m\u001b[38;5;124;43m\"\u001b[39;49m\u001b[38;5;132;43;01m{\u001b[39;49;00m\u001b[38;5;28;43mself\u001b[39;49m\u001b[38;5;241;43m.\u001b[39;49m\u001b[43msubdir\u001b[49m\u001b[38;5;132;43;01m}\u001b[39;49;00m\u001b[38;5;124;43m/\u001b[39;49m\u001b[38;5;132;43;01m{\u001b[39;49;00m\u001b[43mzip_name\u001b[49m\u001b[38;5;132;43;01m}\u001b[39;49;00m\u001b[38;5;124;43m\"\u001b[39;49m\u001b[43m)\u001b[49m\n\u001b[1;32m     85\u001b[0m \u001b[38;5;28;01mexcept\u001b[39;00m \u001b[38;5;167;01mLookupError\u001b[39;00m:\n",
      "File \u001b[0;32m/Library/Frameworks/Python.framework/Versions/3.12/lib/python3.12/site-packages/nltk/data.py:583\u001b[0m, in \u001b[0;36mfind\u001b[0;34m(resource_name, paths)\u001b[0m\n\u001b[1;32m    582\u001b[0m resource_not_found \u001b[38;5;241m=\u001b[39m \u001b[38;5;124mf\u001b[39m\u001b[38;5;124m\"\u001b[39m\u001b[38;5;130;01m\\n\u001b[39;00m\u001b[38;5;132;01m{\u001b[39;00msep\u001b[38;5;132;01m}\u001b[39;00m\u001b[38;5;130;01m\\n\u001b[39;00m\u001b[38;5;132;01m{\u001b[39;00mmsg\u001b[38;5;132;01m}\u001b[39;00m\u001b[38;5;130;01m\\n\u001b[39;00m\u001b[38;5;132;01m{\u001b[39;00msep\u001b[38;5;132;01m}\u001b[39;00m\u001b[38;5;130;01m\\n\u001b[39;00m\u001b[38;5;124m\"\u001b[39m\n\u001b[0;32m--> 583\u001b[0m \u001b[38;5;28;01mraise\u001b[39;00m \u001b[38;5;167;01mLookupError\u001b[39;00m(resource_not_found)\n",
      "\u001b[0;31mLookupError\u001b[0m: \n**********************************************************************\n  Resource \u001b[93mstopwords\u001b[0m not found.\n  Please use the NLTK Downloader to obtain the resource:\n\n  \u001b[31m>>> import nltk\n  >>> nltk.download('stopwords')\n  \u001b[0m\n  For more information see: https://www.nltk.org/data.html\n\n  Attempted to load \u001b[93mcorpora/stopwords.zip/stopwords/\u001b[0m\n\n  Searched in:\n    - '/Users/ravi/nltk_data'\n    - '/Library/Frameworks/Python.framework/Versions/3.12/nltk_data'\n    - '/Library/Frameworks/Python.framework/Versions/3.12/share/nltk_data'\n    - '/Library/Frameworks/Python.framework/Versions/3.12/lib/nltk_data'\n    - '/usr/share/nltk_data'\n    - '/usr/local/share/nltk_data'\n    - '/usr/lib/nltk_data'\n    - '/usr/local/lib/nltk_data'\n**********************************************************************\n",
      "\nDuring handling of the above exception, another exception occurred:\n",
      "\u001b[0;31mLookupError\u001b[0m                               Traceback (most recent call last)",
      "Cell \u001b[0;32mIn[14], line 3\u001b[0m\n\u001b[1;32m      1\u001b[0m \u001b[38;5;28;01mfrom\u001b[39;00m \u001b[38;5;21;01mrake_nltk\u001b[39;00m \u001b[38;5;28;01mimport\u001b[39;00m Rake\n\u001b[0;32m----> 3\u001b[0m rake \u001b[38;5;241m=\u001b[39m \u001b[43mRake\u001b[49m\u001b[43m(\u001b[49m\u001b[43m)\u001b[49m\n\u001b[1;32m      5\u001b[0m text \u001b[38;5;241m=\u001b[39m \u001b[38;5;124m'''\u001b[39m\u001b[38;5;124mThe invention discloses high precision biochemistry instrument cleaning equipment which comprises a shell. A cleaning cavity is formed in the shell, a rising cavity is formed in the position, below the cleaning cavity, in the shell, a transverse groove arranged in a left-and-right extending manner is formed in the top in the cleaning cavity, a sliding connecting block is arranged in the transverse groove, and a cleaning motor is fixedly arranged on the front side end face of the sliding connecting block; a cleaning brush which extends into the cleaning cavity and is in rotary connection with the cleaning cavity is arranged at the bottom of the cleaning motor, the left and right side of the cleaning cavity are each provided with a first guide groove and a second guide groove formed above the first guide groove, a first guide rod arranged in an up-and-down extending manner is arranged in each first guide groove, and a first groove position is arranged at the top in each second guide groove; and a second guide rod arranged in an up-and-down extending manner is arranged in each first groove position, and a rising table with the left and right sides extending into the first guide grooves which are located on the left and right sides and are in sliding connection with the first guide rods is arranged in the cleaning cavity. The high precision biochemistry instrument cleaning equipment is simple in structure, high in working efficiency and low in manufacturing cost and maintaining cost.\u001b[39m\u001b[38;5;124m'''\u001b[39m\n\u001b[1;32m      7\u001b[0m \u001b[38;5;66;03m# Extract keywords from text\u001b[39;00m\n",
      "File \u001b[0;32m/Library/Frameworks/Python.framework/Versions/3.12/lib/python3.12/site-packages/rake_nltk/rake.py:84\u001b[0m, in \u001b[0;36mRake.__init__\u001b[0;34m(self, stopwords, punctuations, language, ranking_metric, max_length, min_length, include_repeated_phrases, sentence_tokenizer, word_tokenizer)\u001b[0m\n\u001b[1;32m     82\u001b[0m     \u001b[38;5;28mself\u001b[39m\u001b[38;5;241m.\u001b[39mstopwords \u001b[38;5;241m=\u001b[39m stopwords\n\u001b[1;32m     83\u001b[0m \u001b[38;5;28;01melse\u001b[39;00m:\n\u001b[0;32m---> 84\u001b[0m     \u001b[38;5;28mself\u001b[39m\u001b[38;5;241m.\u001b[39mstopwords \u001b[38;5;241m=\u001b[39m \u001b[38;5;28mset\u001b[39m(\u001b[43mnltk\u001b[49m\u001b[38;5;241;43m.\u001b[39;49m\u001b[43mcorpus\u001b[49m\u001b[38;5;241;43m.\u001b[39;49m\u001b[43mstopwords\u001b[49m\u001b[38;5;241;43m.\u001b[39;49m\u001b[43mwords\u001b[49m(language))\n\u001b[1;32m     86\u001b[0m \u001b[38;5;66;03m# If punctuations are not provided we ignore all punctuation symbols.\u001b[39;00m\n\u001b[1;32m     87\u001b[0m \u001b[38;5;28mself\u001b[39m\u001b[38;5;241m.\u001b[39mpunctuations: Set[\u001b[38;5;28mstr\u001b[39m]\n",
      "File \u001b[0;32m/Library/Frameworks/Python.framework/Versions/3.12/lib/python3.12/site-packages/nltk/corpus/util.py:121\u001b[0m, in \u001b[0;36mLazyCorpusLoader.__getattr__\u001b[0;34m(self, attr)\u001b[0m\n\u001b[1;32m    118\u001b[0m \u001b[38;5;28;01mif\u001b[39;00m attr \u001b[38;5;241m==\u001b[39m \u001b[38;5;124m\"\u001b[39m\u001b[38;5;124m__bases__\u001b[39m\u001b[38;5;124m\"\u001b[39m:\n\u001b[1;32m    119\u001b[0m     \u001b[38;5;28;01mraise\u001b[39;00m \u001b[38;5;167;01mAttributeError\u001b[39;00m(\u001b[38;5;124m\"\u001b[39m\u001b[38;5;124mLazyCorpusLoader object has no attribute \u001b[39m\u001b[38;5;124m'\u001b[39m\u001b[38;5;124m__bases__\u001b[39m\u001b[38;5;124m'\u001b[39m\u001b[38;5;124m\"\u001b[39m)\n\u001b[0;32m--> 121\u001b[0m \u001b[38;5;28;43mself\u001b[39;49m\u001b[38;5;241;43m.\u001b[39;49m\u001b[43m__load\u001b[49m\u001b[43m(\u001b[49m\u001b[43m)\u001b[49m\n\u001b[1;32m    122\u001b[0m \u001b[38;5;66;03m# This looks circular, but its not, since __load() changes our\u001b[39;00m\n\u001b[1;32m    123\u001b[0m \u001b[38;5;66;03m# __class__ to something new:\u001b[39;00m\n\u001b[1;32m    124\u001b[0m \u001b[38;5;28;01mreturn\u001b[39;00m \u001b[38;5;28mgetattr\u001b[39m(\u001b[38;5;28mself\u001b[39m, attr)\n",
      "File \u001b[0;32m/Library/Frameworks/Python.framework/Versions/3.12/lib/python3.12/site-packages/nltk/corpus/util.py:86\u001b[0m, in \u001b[0;36mLazyCorpusLoader.__load\u001b[0;34m(self)\u001b[0m\n\u001b[1;32m     84\u001b[0m             root \u001b[38;5;241m=\u001b[39m nltk\u001b[38;5;241m.\u001b[39mdata\u001b[38;5;241m.\u001b[39mfind(\u001b[38;5;124mf\u001b[39m\u001b[38;5;124m\"\u001b[39m\u001b[38;5;132;01m{\u001b[39;00m\u001b[38;5;28mself\u001b[39m\u001b[38;5;241m.\u001b[39msubdir\u001b[38;5;132;01m}\u001b[39;00m\u001b[38;5;124m/\u001b[39m\u001b[38;5;132;01m{\u001b[39;00mzip_name\u001b[38;5;132;01m}\u001b[39;00m\u001b[38;5;124m\"\u001b[39m)\n\u001b[1;32m     85\u001b[0m         \u001b[38;5;28;01mexcept\u001b[39;00m \u001b[38;5;167;01mLookupError\u001b[39;00m:\n\u001b[0;32m---> 86\u001b[0m             \u001b[38;5;28;01mraise\u001b[39;00m e\n\u001b[1;32m     88\u001b[0m \u001b[38;5;66;03m# Load the corpus.\u001b[39;00m\n\u001b[1;32m     89\u001b[0m corpus \u001b[38;5;241m=\u001b[39m \u001b[38;5;28mself\u001b[39m\u001b[38;5;241m.\u001b[39m__reader_cls(root, \u001b[38;5;241m*\u001b[39m\u001b[38;5;28mself\u001b[39m\u001b[38;5;241m.\u001b[39m__args, \u001b[38;5;241m*\u001b[39m\u001b[38;5;241m*\u001b[39m\u001b[38;5;28mself\u001b[39m\u001b[38;5;241m.\u001b[39m__kwargs)\n",
      "File \u001b[0;32m/Library/Frameworks/Python.framework/Versions/3.12/lib/python3.12/site-packages/nltk/corpus/util.py:81\u001b[0m, in \u001b[0;36mLazyCorpusLoader.__load\u001b[0;34m(self)\u001b[0m\n\u001b[1;32m     79\u001b[0m \u001b[38;5;28;01melse\u001b[39;00m:\n\u001b[1;32m     80\u001b[0m     \u001b[38;5;28;01mtry\u001b[39;00m:\n\u001b[0;32m---> 81\u001b[0m         root \u001b[38;5;241m=\u001b[39m \u001b[43mnltk\u001b[49m\u001b[38;5;241;43m.\u001b[39;49m\u001b[43mdata\u001b[49m\u001b[38;5;241;43m.\u001b[39;49m\u001b[43mfind\u001b[49m\u001b[43m(\u001b[49m\u001b[38;5;124;43mf\u001b[39;49m\u001b[38;5;124;43m\"\u001b[39;49m\u001b[38;5;132;43;01m{\u001b[39;49;00m\u001b[38;5;28;43mself\u001b[39;49m\u001b[38;5;241;43m.\u001b[39;49m\u001b[43msubdir\u001b[49m\u001b[38;5;132;43;01m}\u001b[39;49;00m\u001b[38;5;124;43m/\u001b[39;49m\u001b[38;5;132;43;01m{\u001b[39;49;00m\u001b[38;5;28;43mself\u001b[39;49m\u001b[38;5;241;43m.\u001b[39;49m\u001b[43m__name\u001b[49m\u001b[38;5;132;43;01m}\u001b[39;49;00m\u001b[38;5;124;43m\"\u001b[39;49m\u001b[43m)\u001b[49m\n\u001b[1;32m     82\u001b[0m     \u001b[38;5;28;01mexcept\u001b[39;00m \u001b[38;5;167;01mLookupError\u001b[39;00m \u001b[38;5;28;01mas\u001b[39;00m e:\n\u001b[1;32m     83\u001b[0m         \u001b[38;5;28;01mtry\u001b[39;00m:\n",
      "File \u001b[0;32m/Library/Frameworks/Python.framework/Versions/3.12/lib/python3.12/site-packages/nltk/data.py:583\u001b[0m, in \u001b[0;36mfind\u001b[0;34m(resource_name, paths)\u001b[0m\n\u001b[1;32m    581\u001b[0m sep \u001b[38;5;241m=\u001b[39m \u001b[38;5;124m\"\u001b[39m\u001b[38;5;124m*\u001b[39m\u001b[38;5;124m\"\u001b[39m \u001b[38;5;241m*\u001b[39m \u001b[38;5;241m70\u001b[39m\n\u001b[1;32m    582\u001b[0m resource_not_found \u001b[38;5;241m=\u001b[39m \u001b[38;5;124mf\u001b[39m\u001b[38;5;124m\"\u001b[39m\u001b[38;5;130;01m\\n\u001b[39;00m\u001b[38;5;132;01m{\u001b[39;00msep\u001b[38;5;132;01m}\u001b[39;00m\u001b[38;5;130;01m\\n\u001b[39;00m\u001b[38;5;132;01m{\u001b[39;00mmsg\u001b[38;5;132;01m}\u001b[39;00m\u001b[38;5;130;01m\\n\u001b[39;00m\u001b[38;5;132;01m{\u001b[39;00msep\u001b[38;5;132;01m}\u001b[39;00m\u001b[38;5;130;01m\\n\u001b[39;00m\u001b[38;5;124m\"\u001b[39m\n\u001b[0;32m--> 583\u001b[0m \u001b[38;5;28;01mraise\u001b[39;00m \u001b[38;5;167;01mLookupError\u001b[39;00m(resource_not_found)\n",
      "\u001b[0;31mLookupError\u001b[0m: \n**********************************************************************\n  Resource \u001b[93mstopwords\u001b[0m not found.\n  Please use the NLTK Downloader to obtain the resource:\n\n  \u001b[31m>>> import nltk\n  >>> nltk.download('stopwords')\n  \u001b[0m\n  For more information see: https://www.nltk.org/data.html\n\n  Attempted to load \u001b[93mcorpora/stopwords\u001b[0m\n\n  Searched in:\n    - '/Users/ravi/nltk_data'\n    - '/Library/Frameworks/Python.framework/Versions/3.12/nltk_data'\n    - '/Library/Frameworks/Python.framework/Versions/3.12/share/nltk_data'\n    - '/Library/Frameworks/Python.framework/Versions/3.12/lib/nltk_data'\n    - '/usr/share/nltk_data'\n    - '/usr/local/share/nltk_data'\n    - '/usr/lib/nltk_data'\n    - '/usr/local/lib/nltk_data'\n**********************************************************************\n"
     ]
    }
   ],
   "source": [
    "from rake_nltk import Rake\n",
    "\n",
    "rake = Rake()\n",
    "\n",
    "text = '''The invention discloses high precision biochemistry instrument cleaning equipment which comprises a shell. A cleaning cavity is formed in the shell, a rising cavity is formed in the position, below the cleaning cavity, in the shell, a transverse groove arranged in a left-and-right extending manner is formed in the top in the cleaning cavity, a sliding connecting block is arranged in the transverse groove, and a cleaning motor is fixedly arranged on the front side end face of the sliding connecting block; a cleaning brush which extends into the cleaning cavity and is in rotary connection with the cleaning cavity is arranged at the bottom of the cleaning motor, the left and right side of the cleaning cavity are each provided with a first guide groove and a second guide groove formed above the first guide groove, a first guide rod arranged in an up-and-down extending manner is arranged in each first guide groove, and a first groove position is arranged at the top in each second guide groove; and a second guide rod arranged in an up-and-down extending manner is arranged in each first groove position, and a rising table with the left and right sides extending into the first guide grooves which are located on the left and right sides and are in sliding connection with the first guide rods is arranged in the cleaning cavity. The high precision biochemistry instrument cleaning equipment is simple in structure, high in working efficiency and low in manufacturing cost and maintaining cost.'''\n",
    "\n",
    "# Extract keywords from text\n",
    "rake.extract_keywords_from_text(text)\n",
    "\n",
    "# Get keyword phrases ranked highest to lowest with scores\n",
    "keywords_with_scores = rake.get_ranked_phrases_with_scores()\n",
    "\n",
    "\n",
    "keywords = rake.get_ranked_phrases()\n",
    "for score, keyword in keywords_with_scores:\n",
    "    print(f\"Score: {score}, Phrase: {keyword}\")\n",
    "\n",
    "print(keywords)\n",
    "# Threshold for masking\n",
    "threshold = 11.0\n",
    "\n",
    "# Mask phrases with scores greater than the threshold\n",
    "masked_text = text\n",
    "for score, keyword in keywords_with_scores:\n",
    "    if score > threshold:\n",
    "        masked_text = masked_text.replace(keyword, '[MASK]')\n",
    "\n",
    "print('\\nOriginal text: ',text)\n",
    "print(\"\\n\\n\\nMasked Text: \",masked_text)"
   ]
  },
  {
   "cell_type": "code",
   "execution_count": null,
   "metadata": {
    "colab": {
     "base_uri": "https://localhost:8080/"
    },
    "id": "b7n27aNJDqDS",
    "outputId": "c72dcf60-bae9-4b57-92e3-0786dcadc891"
   },
   "outputs": [
    {
     "name": "stdout",
     "output_type": "stream",
     "text": [
      "predicted_word:  cleaning\n",
      "predicted_word:  top\n",
      "predicted_word:  top\n",
      "predicted_word:  top\n",
      "predicted_word:  table\n",
      "predicted_word:  design\n",
      "Original Masked Text:  The [MASK] which comprises a shell. A cleaning cavity is formed in the shell, a rising cavity is formed in the position, below the cleaning cavity, in the shell, a transverse groove arranged in a left-and-right extending manner is formed in the top in the cleaning cavity, a sliding connecting block is arranged in the transverse groove, and a cleaning motor is fixedly arranged on the [MASK] of the sliding connecting block; a cleaning brush which extends into the cleaning cavity and is in rotary connection with the cleaning cavity is arranged at the bottom of the cleaning motor, the left and right side of the cleaning cavity are each provided with a first guide groove and a [MASK] above the first guide groove, a [MASK] in an up-and-down extending manner is arranged in each first guide groove, and a first groove position is arranged at the top in each second guide groove; and a [MASK] in an up-and-down extending manner is arranged in each first groove position, and a rising table with the left and right sides extending into the first guide grooves which are located on the left and right sides and are in sliding connection with the first guide rods is arranged in the cleaning cavity. The [MASK] is simple in structure, high in working efficiency and low in manufacturing cost and maintaining cost.\n",
      "Predicted Infilled Text:  The cleaning which comprises a shell. A cleaning cavity is formed in the shell, a rising cavity is formed in the position, below the cleaning cavity, in the shell, a transverse groove arranged in a left-and-right extending manner is formed in the top in the cleaning cavity, a sliding connecting block is arranged in the transverse groove, and a cleaning motor is fixedly arranged on the top of the sliding connecting block; a cleaning brush which extends into the cleaning cavity and is in rotary connection with the cleaning cavity is arranged at the bottom of the cleaning motor, the left and right side of the cleaning cavity are each provided with a first guide groove and a top above the first guide groove, a top in an up-and-down extending manner is arranged in each first guide groove, and a first groove position is arranged at the top in each second guide groove; and a table in an up-and-down extending manner is arranged in each first groove position, and a rising table with the left and right sides extending into the first guide grooves which are located on the left and right sides and are in sliding connection with the first guide rods is arranged in the cleaning cavity. The design is simple in structure, high in working efficiency and low in manufacturing cost and maintaining cost.\n"
     ]
    }
   ],
   "source": [
    "sample_text = masked_text\n",
    "inp = tokenizer(sample_text, return_tensors='tf')\n",
    "mask_loc = np.where(inp.input_ids.numpy()[0]==103)[0].tolist()\n",
    "out = model(inp).logits[0].numpy()\n",
    "predicted_tokens = np.argmax(out[mask_loc],axis=1).tolist()\n",
    "predicted_output=sample_text\n",
    "#eplace all [MASK] with predicted tokens\n",
    "for token in predicted_tokens:\n",
    "    predicted_word = tokenizer.decode([token])\n",
    "    print('predicted_word: ',predicted_word)\n",
    "    predicted_output = predicted_output.replace('[MASK]', predicted_word, 1)\n",
    "\n",
    "print('Original Masked Text: ',sample_text)\n",
    "print('Predicted Infilled Text: ',predicted_output)\n"
   ]
  },
  {
   "cell_type": "code",
   "execution_count": null,
   "metadata": {
    "colab": {
     "base_uri": "https://localhost:8080/"
    },
    "id": "Xd2mrVGgF74l",
    "outputId": "38422a09-b3b8-431a-80d1-4d92c5ab3be7"
   },
   "outputs": [
    {
     "name": "stdout",
     "output_type": "stream",
     "text": [
      "Predictions for masked position 1:\n",
      "Sample 1: cleaning\n",
      "Sample 2: apparatus\n",
      "Sample 3: apparatus\n",
      "Sample 4: cleaning\n",
      "Sample 5: apparatus\n",
      "\n",
      "Predictions for masked position 2:\n",
      "Sample 1: top\n",
      "Sample 2: top\n",
      "Sample 3: top\n",
      "Sample 4: bottom\n",
      "Sample 5: top\n",
      "\n",
      "Predictions for masked position 3:\n",
      "Sample 1: top\n",
      "Sample 2: top\n",
      "Sample 3: top\n",
      "Sample 4: top\n",
      "Sample 5: top\n",
      "\n",
      "Predictions for masked position 4:\n",
      "Sample 1: top\n",
      "Sample 2: panel\n",
      "Sample 3: design\n",
      "Sample 4: top\n",
      "Sample 5: chassis\n",
      "\n",
      "Predictions for masked position 5:\n",
      "Sample 1: table\n",
      "Sample 2: table\n",
      "Sample 3: stop\n",
      "Sample 4: light\n",
      "Sample 5: podium\n",
      "\n",
      "Predictions for masked position 6:\n",
      "Sample 1: structure\n",
      "Sample 2: structure\n",
      "Sample 3: design\n",
      "Sample 4: structure\n",
      "Sample 5: design\n",
      "\n"
     ]
    }
   ],
   "source": [
    "import numpy as np\n",
    "\n",
    "\n",
    "# Number of samples for each masked position\n",
    "num_samples = 5\n",
    "\n",
    "# Predicted tokens for each masked position\n",
    "predicted_tokens = []\n",
    "\n",
    "for loc in mask_loc:\n",
    "    logits = out[loc]\n",
    "\n",
    "    # Sampling from logits\n",
    "    sampled_indices = np.random.choice(len(logits), size=num_samples, p=np.exp(logits) / np.sum(np.exp(logits)))\n",
    "    predicted_tokens.append(sampled_indices.tolist())\n",
    "\n",
    "# Decoding predicted tokens\n",
    "decoded_words = [[tokenizer.decode([token]) for token in tokens] for tokens in predicted_tokens]\n",
    "\n",
    "# Print decoded output\n",
    "for i, words in enumerate(decoded_words):\n",
    "    print(f\"Predictions for masked position {i + 1}:\")\n",
    "    for j, word in enumerate(words):\n",
    "        print(f\"Sample {j + 1}: {word}\")\n",
    "    print()"
   ]
  },
  {
   "cell_type": "code",
   "execution_count": null,
   "metadata": {
    "colab": {
     "base_uri": "https://localhost:8080/"
    },
    "id": "8EqgKeA7N_Nr",
    "outputId": "c5d466ff-6518-4311-85e2-3e95f1dd8890"
   },
   "outputs": [
    {
     "name": "stdout",
     "output_type": "stream",
     "text": [
      "Original Masked Text: The [MASK] which comprises a shell. A cleaning cavity is formed in the shell, a rising cavity is formed in the position, below the cleaning cavity, in the shell, a transverse groove arranged in a left-and-right extending manner is formed in the top in the cleaning cavity, a sliding connecting block is arranged in the transverse groove, and a cleaning motor is fixedly arranged on the [MASK] of the sliding connecting block; a cleaning brush which extends into the cleaning cavity and is in rotary connection with the cleaning cavity is arranged at the bottom of the cleaning motor, the left and right side of the cleaning cavity are each provided with a first guide groove and a [MASK] above the first guide groove, a [MASK] in an up-and-down extending manner is arranged in each first guide groove, and a first groove position is arranged at the top in each second guide groove; and a [MASK] in an up-and-down extending manner is arranged in each first groove position, and a rising table with the left and right sides extending into the first guide grooves which are located on the left and right sides and are in sliding connection with the first guide rods is arranged in the cleaning cavity. The [MASK] is simple in structure, high in working efficiency and low in manufacturing cost and maintaining cost.\n",
      "Prediction 1: The design which comprises a shell. A cleaning cavity is formed in the shell, a rising cavity is formed in the position, below the cleaning cavity, in the shell, a transverse groove arranged in a left-and-right extending manner is formed in the top in the cleaning cavity, a sliding connecting block is arranged in the transverse groove, and a cleaning motor is fixedly arranged on the top of the sliding connecting block; a cleaning brush which extends into the cleaning cavity and is in rotary connection with the cleaning cavity is arranged at the bottom of the cleaning motor, the left and right side of the cleaning cavity are each provided with a first guide groove and a top above the first guide groove, a stop in an up-and-down extending manner is arranged in each first guide groove, and a first groove position is arranged at the top in each second guide groove; and a jack in an up-and-down extending manner is arranged in each first groove position, and a rising table with the left and right sides extending into the first guide grooves which are located on the left and right sides and are in sliding connection with the first guide rods is arranged in the cleaning cavity. The cleaning is simple in structure, high in working efficiency and low in manufacturing cost and maintaining cost.\n",
      "Prediction 2: The cleaning which comprises a shell. A cleaning cavity is formed in the shell, a rising cavity is formed in the position, below the cleaning cavity, in the shell, a transverse groove arranged in a left-and-right extending manner is formed in the top in the cleaning cavity, a sliding connecting block is arranged in the transverse groove, and a cleaning motor is fixedly arranged on the top of the sliding connecting block; a cleaning brush which extends into the cleaning cavity and is in rotary connection with the cleaning cavity is arranged at the bottom of the cleaning motor, the left and right side of the cleaning cavity are each provided with a first guide groove and a moderate above the first guide groove, a design in an up-and-down extending manner is arranged in each first guide groove, and a first groove position is arranged at the top in each second guide groove; and a bar in an up-and-down extending manner is arranged in each first groove position, and a rising table with the left and right sides extending into the first guide grooves which are located on the left and right sides and are in sliding connection with the first guide rods is arranged in the cleaning cavity. The structure is simple in structure, high in working efficiency and low in manufacturing cost and maintaining cost.\n",
      "Prediction 3: The installation which comprises a shell. A cleaning cavity is formed in the shell, a rising cavity is formed in the position, below the cleaning cavity, in the shell, a transverse groove arranged in a left-and-right extending manner is formed in the top in the cleaning cavity, a sliding connecting block is arranged in the transverse groove, and a cleaning motor is fixedly arranged on the top of the sliding connecting block; a cleaning brush which extends into the cleaning cavity and is in rotary connection with the cleaning cavity is arranged at the bottom of the cleaning motor, the left and right side of the cleaning cavity are each provided with a first guide groove and a lamp above the first guide groove, a stop in an up-and-down extending manner is arranged in each first guide groove, and a first groove position is arranged at the top in each second guide groove; and a fourth in an up-and-down extending manner is arranged in each first groove position, and a rising table with the left and right sides extending into the first guide grooves which are located on the left and right sides and are in sliding connection with the first guide rods is arranged in the cleaning cavity. The structure is simple in structure, high in working efficiency and low in manufacturing cost and maintaining cost.\n",
      "Prediction 4: The cleaning which comprises a shell. A cleaning cavity is formed in the shell, a rising cavity is formed in the position, below the cleaning cavity, in the shell, a transverse groove arranged in a left-and-right extending manner is formed in the top in the cleaning cavity, a sliding connecting block is arranged in the transverse groove, and a cleaning motor is fixedly arranged on the top of the sliding connecting block; a cleaning brush which extends into the cleaning cavity and is in rotary connection with the cleaning cavity is arranged at the bottom of the cleaning motor, the left and right side of the cleaning cavity are each provided with a first guide groove and a cover above the first guide groove, a tenth in an up-and-down extending manner is arranged in each first guide groove, and a first groove position is arranged at the top in each second guide groove; and a third in an up-and-down extending manner is arranged in each first groove position, and a rising table with the left and right sides extending into the first guide grooves which are located on the left and right sides and are in sliding connection with the first guide rods is arranged in the cleaning cavity. The ventilation is simple in structure, high in working efficiency and low in manufacturing cost and maintaining cost.\n",
      "Prediction 5: The cleaning which comprises a shell. A cleaning cavity is formed in the shell, a rising cavity is formed in the position, below the cleaning cavity, in the shell, a transverse groove arranged in a left-and-right extending manner is formed in the top in the cleaning cavity, a sliding connecting block is arranged in the transverse groove, and a cleaning motor is fixedly arranged on the top of the sliding connecting block; a cleaning brush which extends into the cleaning cavity and is in rotary connection with the cleaning cavity is arranged at the bottom of the cleaning motor, the left and right side of the cleaning cavity are each provided with a first guide groove and a top above the first guide groove, a slot in an up-and-down extending manner is arranged in each first guide groove, and a first groove position is arranged at the top in each second guide groove; and a stirring in an up-and-down extending manner is arranged in each first groove position, and a rising table with the left and right sides extending into the first guide grooves which are located on the left and right sides and are in sliding connection with the first guide rods is arranged in the cleaning cavity. The structure is simple in structure, high in working efficiency and low in manufacturing cost and maintaining cost.\n"
     ]
    }
   ],
   "source": [
    "def penalized_decoding(masked_text, model, tokenizer, penalty_factor=1.2, temperature=1.0, num_predictions=3):\n",
    "    inp = tokenizer(masked_text, return_tensors='tf')\n",
    "    mask_loc = np.where(inp.input_ids.numpy()[0] == 103)[0].tolist()\n",
    "    out = model(inp).logits[0].numpy()\n",
    "\n",
    "    # Apply temperature scaling\n",
    "    out[mask_loc] = out[mask_loc] / temperature\n",
    "\n",
    "    # Apply penalty\n",
    "    out[mask_loc] = out[mask_loc] / penalty_factor\n",
    "\n",
    "    # Generate multiple predictions\n",
    "    predicted_outputs = []\n",
    "    for _ in range(num_predictions):\n",
    "        predicted_tokens = []\n",
    "        for loc in mask_loc:\n",
    "            logits = out[loc]\n",
    "            probabilities = tf.nn.softmax(logits).numpy()\n",
    "\n",
    "            # Find the top 95% of the distribution\n",
    "            sorted_indices = np.argsort(probabilities)[::-1]\n",
    "            cumulative_probs = np.cumsum(probabilities[sorted_indices])\n",
    "            top_95_mask = cumulative_probs <= 0.95\n",
    "            top_95_indices = sorted_indices[top_95_mask]\n",
    "\n",
    "            # Normalize the probabilities\n",
    "            top_95_probabilities = probabilities[top_95_indices]\n",
    "            top_95_probabilities /= np.sum(top_95_probabilities)\n",
    "\n",
    "            # Sample from the top 95% of the probability distribution\n",
    "            token_id = np.random.choice(top_95_indices, p=top_95_probabilities)\n",
    "            predicted_tokens.append(token_id)\n",
    "\n",
    "        predicted_output = masked_text\n",
    "        for token in predicted_tokens:\n",
    "            predicted_word = tokenizer.decode([token]).strip()\n",
    "            predicted_output = predicted_output.replace('[MASK]', predicted_word, 1)\n",
    "\n",
    "        predicted_outputs.append(predicted_output)\n",
    "\n",
    "    return predicted_outputs\n",
    "\n",
    "sample_text = masked_text\n",
    "\n",
    "# Generate 5 predictions with temperature and penalty factor\n",
    "predicted_outputs = penalized_decoding(sample_text, model, tokenizer, penalty_factor=1.2, temperature=1.0, num_predictions=5)\n",
    "print('Original Masked Text:', sample_text)\n",
    "for i, predicted_output in enumerate(predicted_outputs, start=1):\n",
    "    print(f'Prediction {i}: {predicted_output}')"
   ]
  }
 ],
 "metadata": {
  "colab": {
   "provenance": []
  },
  "kernelspec": {
   "display_name": "Python 3 (ipykernel)",
   "language": "python",
   "name": "python3"
  },
  "language_info": {
   "codemirror_mode": {
    "name": "ipython",
    "version": 3
   },
   "file_extension": ".py",
   "mimetype": "text/x-python",
   "name": "python",
   "nbconvert_exporter": "python",
   "pygments_lexer": "ipython3",
   "version": "3.12.1"
  },
  "widgets": {
   "application/vnd.jupyter.widget-state+json": {
    "03f2817eca57415fb19869582ac4ad0a": {
     "model_module": "@jupyter-widgets/base",
     "model_module_version": "1.2.0",
     "model_name": "LayoutModel",
     "state": {
      "_model_module": "@jupyter-widgets/base",
      "_model_module_version": "1.2.0",
      "_model_name": "LayoutModel",
      "_view_count": null,
      "_view_module": "@jupyter-widgets/base",
      "_view_module_version": "1.2.0",
      "_view_name": "LayoutView",
      "align_content": null,
      "align_items": null,
      "align_self": null,
      "border": null,
      "bottom": null,
      "display": null,
      "flex": null,
      "flex_flow": null,
      "grid_area": null,
      "grid_auto_columns": null,
      "grid_auto_flow": null,
      "grid_auto_rows": null,
      "grid_column": null,
      "grid_gap": null,
      "grid_row": null,
      "grid_template_areas": null,
      "grid_template_columns": null,
      "grid_template_rows": null,
      "height": null,
      "justify_content": null,
      "justify_items": null,
      "left": null,
      "margin": null,
      "max_height": null,
      "max_width": null,
      "min_height": null,
      "min_width": null,
      "object_fit": null,
      "object_position": null,
      "order": null,
      "overflow": null,
      "overflow_x": null,
      "overflow_y": null,
      "padding": null,
      "right": null,
      "top": null,
      "visibility": null,
      "width": null
     }
    },
    "054efc002fcd4d639dc84c6eeccdbbc4": {
     "model_module": "@jupyter-widgets/controls",
     "model_module_version": "1.5.0",
     "model_name": "HTMLModel",
     "state": {
      "_dom_classes": [],
      "_model_module": "@jupyter-widgets/controls",
      "_model_module_version": "1.5.0",
      "_model_name": "HTMLModel",
      "_view_count": null,
      "_view_module": "@jupyter-widgets/controls",
      "_view_module_version": "1.5.0",
      "_view_name": "HTMLView",
      "description": "",
      "description_tooltip": null,
      "layout": "IPY_MODEL_1658af9ee70c494b8aa1fead851e51b8",
      "placeholder": "​",
      "style": "IPY_MODEL_bf554937ebad466eb834586a73cff5b7",
      "value": "tokenizer_config.json: 100%"
     }
    },
    "0b51d89ecdfd41bc8769e9f96a9829c5": {
     "model_module": "@jupyter-widgets/base",
     "model_module_version": "1.2.0",
     "model_name": "LayoutModel",
     "state": {
      "_model_module": "@jupyter-widgets/base",
      "_model_module_version": "1.2.0",
      "_model_name": "LayoutModel",
      "_view_count": null,
      "_view_module": "@jupyter-widgets/base",
      "_view_module_version": "1.2.0",
      "_view_name": "LayoutView",
      "align_content": null,
      "align_items": null,
      "align_self": null,
      "border": null,
      "bottom": null,
      "display": null,
      "flex": null,
      "flex_flow": null,
      "grid_area": null,
      "grid_auto_columns": null,
      "grid_auto_flow": null,
      "grid_auto_rows": null,
      "grid_column": null,
      "grid_gap": null,
      "grid_row": null,
      "grid_template_areas": null,
      "grid_template_columns": null,
      "grid_template_rows": null,
      "height": null,
      "justify_content": null,
      "justify_items": null,
      "left": null,
      "margin": null,
      "max_height": null,
      "max_width": null,
      "min_height": null,
      "min_width": null,
      "object_fit": null,
      "object_position": null,
      "order": null,
      "overflow": null,
      "overflow_x": null,
      "overflow_y": null,
      "padding": null,
      "right": null,
      "top": null,
      "visibility": null,
      "width": null
     }
    },
    "0eb09d3faa0c4a1a936dd48bd5bb417a": {
     "model_module": "@jupyter-widgets/controls",
     "model_module_version": "1.5.0",
     "model_name": "HTMLModel",
     "state": {
      "_dom_classes": [],
      "_model_module": "@jupyter-widgets/controls",
      "_model_module_version": "1.5.0",
      "_model_name": "HTMLModel",
      "_view_count": null,
      "_view_module": "@jupyter-widgets/controls",
      "_view_module_version": "1.5.0",
      "_view_name": "HTMLView",
      "description": "",
      "description_tooltip": null,
      "layout": "IPY_MODEL_1c3f6611ab2b4235b2fe5a0a24f0a0cb",
      "placeholder": "​",
      "style": "IPY_MODEL_9418e14a8b1c4b1fa1a112044a9e4f45",
      "value": " 570/570 [00:00&lt;00:00, 10.9kB/s]"
     }
    },
    "1658af9ee70c494b8aa1fead851e51b8": {
     "model_module": "@jupyter-widgets/base",
     "model_module_version": "1.2.0",
     "model_name": "LayoutModel",
     "state": {
      "_model_module": "@jupyter-widgets/base",
      "_model_module_version": "1.2.0",
      "_model_name": "LayoutModel",
      "_view_count": null,
      "_view_module": "@jupyter-widgets/base",
      "_view_module_version": "1.2.0",
      "_view_name": "LayoutView",
      "align_content": null,
      "align_items": null,
      "align_self": null,
      "border": null,
      "bottom": null,
      "display": null,
      "flex": null,
      "flex_flow": null,
      "grid_area": null,
      "grid_auto_columns": null,
      "grid_auto_flow": null,
      "grid_auto_rows": null,
      "grid_column": null,
      "grid_gap": null,
      "grid_row": null,
      "grid_template_areas": null,
      "grid_template_columns": null,
      "grid_template_rows": null,
      "height": null,
      "justify_content": null,
      "justify_items": null,
      "left": null,
      "margin": null,
      "max_height": null,
      "max_width": null,
      "min_height": null,
      "min_width": null,
      "object_fit": null,
      "object_position": null,
      "order": null,
      "overflow": null,
      "overflow_x": null,
      "overflow_y": null,
      "padding": null,
      "right": null,
      "top": null,
      "visibility": null,
      "width": null
     }
    },
    "16f679d02d304383b16a970a4135193d": {
     "model_module": "@jupyter-widgets/base",
     "model_module_version": "1.2.0",
     "model_name": "LayoutModel",
     "state": {
      "_model_module": "@jupyter-widgets/base",
      "_model_module_version": "1.2.0",
      "_model_name": "LayoutModel",
      "_view_count": null,
      "_view_module": "@jupyter-widgets/base",
      "_view_module_version": "1.2.0",
      "_view_name": "LayoutView",
      "align_content": null,
      "align_items": null,
      "align_self": null,
      "border": null,
      "bottom": null,
      "display": null,
      "flex": null,
      "flex_flow": null,
      "grid_area": null,
      "grid_auto_columns": null,
      "grid_auto_flow": null,
      "grid_auto_rows": null,
      "grid_column": null,
      "grid_gap": null,
      "grid_row": null,
      "grid_template_areas": null,
      "grid_template_columns": null,
      "grid_template_rows": null,
      "height": null,
      "justify_content": null,
      "justify_items": null,
      "left": null,
      "margin": null,
      "max_height": null,
      "max_width": null,
      "min_height": null,
      "min_width": null,
      "object_fit": null,
      "object_position": null,
      "order": null,
      "overflow": null,
      "overflow_x": null,
      "overflow_y": null,
      "padding": null,
      "right": null,
      "top": null,
      "visibility": null,
      "width": null
     }
    },
    "1c3f6611ab2b4235b2fe5a0a24f0a0cb": {
     "model_module": "@jupyter-widgets/base",
     "model_module_version": "1.2.0",
     "model_name": "LayoutModel",
     "state": {
      "_model_module": "@jupyter-widgets/base",
      "_model_module_version": "1.2.0",
      "_model_name": "LayoutModel",
      "_view_count": null,
      "_view_module": "@jupyter-widgets/base",
      "_view_module_version": "1.2.0",
      "_view_name": "LayoutView",
      "align_content": null,
      "align_items": null,
      "align_self": null,
      "border": null,
      "bottom": null,
      "display": null,
      "flex": null,
      "flex_flow": null,
      "grid_area": null,
      "grid_auto_columns": null,
      "grid_auto_flow": null,
      "grid_auto_rows": null,
      "grid_column": null,
      "grid_gap": null,
      "grid_row": null,
      "grid_template_areas": null,
      "grid_template_columns": null,
      "grid_template_rows": null,
      "height": null,
      "justify_content": null,
      "justify_items": null,
      "left": null,
      "margin": null,
      "max_height": null,
      "max_width": null,
      "min_height": null,
      "min_width": null,
      "object_fit": null,
      "object_position": null,
      "order": null,
      "overflow": null,
      "overflow_x": null,
      "overflow_y": null,
      "padding": null,
      "right": null,
      "top": null,
      "visibility": null,
      "width": null
     }
    },
    "245ad48689d94b88b221dff8203fd3d5": {
     "model_module": "@jupyter-widgets/controls",
     "model_module_version": "1.5.0",
     "model_name": "ProgressStyleModel",
     "state": {
      "_model_module": "@jupyter-widgets/controls",
      "_model_module_version": "1.5.0",
      "_model_name": "ProgressStyleModel",
      "_view_count": null,
      "_view_module": "@jupyter-widgets/base",
      "_view_module_version": "1.2.0",
      "_view_name": "StyleView",
      "bar_color": null,
      "description_width": ""
     }
    },
    "24f5895fc7af495798005b582ecf0563": {
     "model_module": "@jupyter-widgets/controls",
     "model_module_version": "1.5.0",
     "model_name": "ProgressStyleModel",
     "state": {
      "_model_module": "@jupyter-widgets/controls",
      "_model_module_version": "1.5.0",
      "_model_name": "ProgressStyleModel",
      "_view_count": null,
      "_view_module": "@jupyter-widgets/base",
      "_view_module_version": "1.2.0",
      "_view_name": "StyleView",
      "bar_color": null,
      "description_width": ""
     }
    },
    "2b46cc678efe4c9d91d723239b698a45": {
     "model_module": "@jupyter-widgets/controls",
     "model_module_version": "1.5.0",
     "model_name": "HTMLModel",
     "state": {
      "_dom_classes": [],
      "_model_module": "@jupyter-widgets/controls",
      "_model_module_version": "1.5.0",
      "_model_name": "HTMLModel",
      "_view_count": null,
      "_view_module": "@jupyter-widgets/controls",
      "_view_module_version": "1.5.0",
      "_view_name": "HTMLView",
      "description": "",
      "description_tooltip": null,
      "layout": "IPY_MODEL_ce90088977ce409693f5f9c2cc0f6ad9",
      "placeholder": "​",
      "style": "IPY_MODEL_2f488c69ab6748f9981f4f2fc00d7810",
      "value": " 48.0/48.0 [00:00&lt;00:00, 1.23kB/s]"
     }
    },
    "2baafbf1de434b99bce8f0dd72bb9480": {
     "model_module": "@jupyter-widgets/controls",
     "model_module_version": "1.5.0",
     "model_name": "DescriptionStyleModel",
     "state": {
      "_model_module": "@jupyter-widgets/controls",
      "_model_module_version": "1.5.0",
      "_model_name": "DescriptionStyleModel",
      "_view_count": null,
      "_view_module": "@jupyter-widgets/base",
      "_view_module_version": "1.2.0",
      "_view_name": "StyleView",
      "description_width": ""
     }
    },
    "2c10abce36e54d78ae19577647852123": {
     "model_module": "@jupyter-widgets/controls",
     "model_module_version": "1.5.0",
     "model_name": "HTMLModel",
     "state": {
      "_dom_classes": [],
      "_model_module": "@jupyter-widgets/controls",
      "_model_module_version": "1.5.0",
      "_model_name": "HTMLModel",
      "_view_count": null,
      "_view_module": "@jupyter-widgets/controls",
      "_view_module_version": "1.5.0",
      "_view_name": "HTMLView",
      "description": "",
      "description_tooltip": null,
      "layout": "IPY_MODEL_e2c8e16134264c1c8d121ef0925fa21a",
      "placeholder": "​",
      "style": "IPY_MODEL_4d02768ccbb543c4b5a111123e477089",
      "value": " 440M/440M [00:04&lt;00:00, 23.8MB/s]"
     }
    },
    "2d2b0e7c5c3448cbb71c688bf4dcbc96": {
     "model_module": "@jupyter-widgets/base",
     "model_module_version": "1.2.0",
     "model_name": "LayoutModel",
     "state": {
      "_model_module": "@jupyter-widgets/base",
      "_model_module_version": "1.2.0",
      "_model_name": "LayoutModel",
      "_view_count": null,
      "_view_module": "@jupyter-widgets/base",
      "_view_module_version": "1.2.0",
      "_view_name": "LayoutView",
      "align_content": null,
      "align_items": null,
      "align_self": null,
      "border": null,
      "bottom": null,
      "display": null,
      "flex": null,
      "flex_flow": null,
      "grid_area": null,
      "grid_auto_columns": null,
      "grid_auto_flow": null,
      "grid_auto_rows": null,
      "grid_column": null,
      "grid_gap": null,
      "grid_row": null,
      "grid_template_areas": null,
      "grid_template_columns": null,
      "grid_template_rows": null,
      "height": null,
      "justify_content": null,
      "justify_items": null,
      "left": null,
      "margin": null,
      "max_height": null,
      "max_width": null,
      "min_height": null,
      "min_width": null,
      "object_fit": null,
      "object_position": null,
      "order": null,
      "overflow": null,
      "overflow_x": null,
      "overflow_y": null,
      "padding": null,
      "right": null,
      "top": null,
      "visibility": null,
      "width": null
     }
    },
    "2f488c69ab6748f9981f4f2fc00d7810": {
     "model_module": "@jupyter-widgets/controls",
     "model_module_version": "1.5.0",
     "model_name": "DescriptionStyleModel",
     "state": {
      "_model_module": "@jupyter-widgets/controls",
      "_model_module_version": "1.5.0",
      "_model_name": "DescriptionStyleModel",
      "_view_count": null,
      "_view_module": "@jupyter-widgets/base",
      "_view_module_version": "1.2.0",
      "_view_name": "StyleView",
      "description_width": ""
     }
    },
    "367f888e2bea4cb49ef7234f2842f1ef": {
     "model_module": "@jupyter-widgets/controls",
     "model_module_version": "1.5.0",
     "model_name": "ProgressStyleModel",
     "state": {
      "_model_module": "@jupyter-widgets/controls",
      "_model_module_version": "1.5.0",
      "_model_name": "ProgressStyleModel",
      "_view_count": null,
      "_view_module": "@jupyter-widgets/base",
      "_view_module_version": "1.2.0",
      "_view_name": "StyleView",
      "bar_color": null,
      "description_width": ""
     }
    },
    "3b24f19f563444d78b1147c3a55bdf68": {
     "model_module": "@jupyter-widgets/base",
     "model_module_version": "1.2.0",
     "model_name": "LayoutModel",
     "state": {
      "_model_module": "@jupyter-widgets/base",
      "_model_module_version": "1.2.0",
      "_model_name": "LayoutModel",
      "_view_count": null,
      "_view_module": "@jupyter-widgets/base",
      "_view_module_version": "1.2.0",
      "_view_name": "LayoutView",
      "align_content": null,
      "align_items": null,
      "align_self": null,
      "border": null,
      "bottom": null,
      "display": null,
      "flex": null,
      "flex_flow": null,
      "grid_area": null,
      "grid_auto_columns": null,
      "grid_auto_flow": null,
      "grid_auto_rows": null,
      "grid_column": null,
      "grid_gap": null,
      "grid_row": null,
      "grid_template_areas": null,
      "grid_template_columns": null,
      "grid_template_rows": null,
      "height": null,
      "justify_content": null,
      "justify_items": null,
      "left": null,
      "margin": null,
      "max_height": null,
      "max_width": null,
      "min_height": null,
      "min_width": null,
      "object_fit": null,
      "object_position": null,
      "order": null,
      "overflow": null,
      "overflow_x": null,
      "overflow_y": null,
      "padding": null,
      "right": null,
      "top": null,
      "visibility": null,
      "width": null
     }
    },
    "3e30dc44c428476dbc7e32d2d722c0b7": {
     "model_module": "@jupyter-widgets/controls",
     "model_module_version": "1.5.0",
     "model_name": "HBoxModel",
     "state": {
      "_dom_classes": [],
      "_model_module": "@jupyter-widgets/controls",
      "_model_module_version": "1.5.0",
      "_model_name": "HBoxModel",
      "_view_count": null,
      "_view_module": "@jupyter-widgets/controls",
      "_view_module_version": "1.5.0",
      "_view_name": "HBoxView",
      "box_style": "",
      "children": [
       "IPY_MODEL_58e7588ea7c8407caca8fa86aa013430",
       "IPY_MODEL_9b542b7ea8c1488790c9e4db3c5e7c61",
       "IPY_MODEL_540e31cf3366492680dc80a73b2235c7"
      ],
      "layout": "IPY_MODEL_9a727d2ef5dd461391e470831f94d98f"
     }
    },
    "46fc6c8a26374b6599f63aa91b7b2a46": {
     "model_module": "@jupyter-widgets/base",
     "model_module_version": "1.2.0",
     "model_name": "LayoutModel",
     "state": {
      "_model_module": "@jupyter-widgets/base",
      "_model_module_version": "1.2.0",
      "_model_name": "LayoutModel",
      "_view_count": null,
      "_view_module": "@jupyter-widgets/base",
      "_view_module_version": "1.2.0",
      "_view_name": "LayoutView",
      "align_content": null,
      "align_items": null,
      "align_self": null,
      "border": null,
      "bottom": null,
      "display": null,
      "flex": null,
      "flex_flow": null,
      "grid_area": null,
      "grid_auto_columns": null,
      "grid_auto_flow": null,
      "grid_auto_rows": null,
      "grid_column": null,
      "grid_gap": null,
      "grid_row": null,
      "grid_template_areas": null,
      "grid_template_columns": null,
      "grid_template_rows": null,
      "height": null,
      "justify_content": null,
      "justify_items": null,
      "left": null,
      "margin": null,
      "max_height": null,
      "max_width": null,
      "min_height": null,
      "min_width": null,
      "object_fit": null,
      "object_position": null,
      "order": null,
      "overflow": null,
      "overflow_x": null,
      "overflow_y": null,
      "padding": null,
      "right": null,
      "top": null,
      "visibility": null,
      "width": null
     }
    },
    "4abcaba9af274b57934e617e094b2efc": {
     "model_module": "@jupyter-widgets/controls",
     "model_module_version": "1.5.0",
     "model_name": "HBoxModel",
     "state": {
      "_dom_classes": [],
      "_model_module": "@jupyter-widgets/controls",
      "_model_module_version": "1.5.0",
      "_model_name": "HBoxModel",
      "_view_count": null,
      "_view_module": "@jupyter-widgets/controls",
      "_view_module_version": "1.5.0",
      "_view_name": "HBoxView",
      "box_style": "",
      "children": [
       "IPY_MODEL_a75699cee802432ea600d881b5354221",
       "IPY_MODEL_9a09b1460e8c4be79a12c55d157730d8",
       "IPY_MODEL_0eb09d3faa0c4a1a936dd48bd5bb417a"
      ],
      "layout": "IPY_MODEL_3b24f19f563444d78b1147c3a55bdf68"
     }
    },
    "4d02768ccbb543c4b5a111123e477089": {
     "model_module": "@jupyter-widgets/controls",
     "model_module_version": "1.5.0",
     "model_name": "DescriptionStyleModel",
     "state": {
      "_model_module": "@jupyter-widgets/controls",
      "_model_module_version": "1.5.0",
      "_model_name": "DescriptionStyleModel",
      "_view_count": null,
      "_view_module": "@jupyter-widgets/base",
      "_view_module_version": "1.2.0",
      "_view_name": "StyleView",
      "description_width": ""
     }
    },
    "4ff3795800b8452c9ce926afca0908de": {
     "model_module": "@jupyter-widgets/controls",
     "model_module_version": "1.5.0",
     "model_name": "DescriptionStyleModel",
     "state": {
      "_model_module": "@jupyter-widgets/controls",
      "_model_module_version": "1.5.0",
      "_model_name": "DescriptionStyleModel",
      "_view_count": null,
      "_view_module": "@jupyter-widgets/base",
      "_view_module_version": "1.2.0",
      "_view_name": "StyleView",
      "description_width": ""
     }
    },
    "540e31cf3366492680dc80a73b2235c7": {
     "model_module": "@jupyter-widgets/controls",
     "model_module_version": "1.5.0",
     "model_name": "HTMLModel",
     "state": {
      "_dom_classes": [],
      "_model_module": "@jupyter-widgets/controls",
      "_model_module_version": "1.5.0",
      "_model_name": "HTMLModel",
      "_view_count": null,
      "_view_module": "@jupyter-widgets/controls",
      "_view_module_version": "1.5.0",
      "_view_name": "HTMLView",
      "description": "",
      "description_tooltip": null,
      "layout": "IPY_MODEL_2d2b0e7c5c3448cbb71c688bf4dcbc96",
      "placeholder": "​",
      "style": "IPY_MODEL_4ff3795800b8452c9ce926afca0908de",
      "value": " 232k/232k [00:00&lt;00:00, 3.80MB/s]"
     }
    },
    "58e7588ea7c8407caca8fa86aa013430": {
     "model_module": "@jupyter-widgets/controls",
     "model_module_version": "1.5.0",
     "model_name": "HTMLModel",
     "state": {
      "_dom_classes": [],
      "_model_module": "@jupyter-widgets/controls",
      "_model_module_version": "1.5.0",
      "_model_name": "HTMLModel",
      "_view_count": null,
      "_view_module": "@jupyter-widgets/controls",
      "_view_module_version": "1.5.0",
      "_view_name": "HTMLView",
      "description": "",
      "description_tooltip": null,
      "layout": "IPY_MODEL_46fc6c8a26374b6599f63aa91b7b2a46",
      "placeholder": "​",
      "style": "IPY_MODEL_ddb2627168d145088cc782489efc42be",
      "value": "vocab.txt: 100%"
     }
    },
    "66d6f6f4da59498ebc9a05e199679344": {
     "model_module": "@jupyter-widgets/controls",
     "model_module_version": "1.5.0",
     "model_name": "HBoxModel",
     "state": {
      "_dom_classes": [],
      "_model_module": "@jupyter-widgets/controls",
      "_model_module_version": "1.5.0",
      "_model_name": "HBoxModel",
      "_view_count": null,
      "_view_module": "@jupyter-widgets/controls",
      "_view_module_version": "1.5.0",
      "_view_name": "HBoxView",
      "box_style": "",
      "children": [
       "IPY_MODEL_054efc002fcd4d639dc84c6eeccdbbc4",
       "IPY_MODEL_bdc0e65eaeca4926af2690bd1ab34d04",
       "IPY_MODEL_2b46cc678efe4c9d91d723239b698a45"
      ],
      "layout": "IPY_MODEL_8e941cb818674e8c8460ef43241d79d1"
     }
    },
    "6d163bf390ab48b189127b91708b66ed": {
     "model_module": "@jupyter-widgets/controls",
     "model_module_version": "1.5.0",
     "model_name": "ProgressStyleModel",
     "state": {
      "_model_module": "@jupyter-widgets/controls",
      "_model_module_version": "1.5.0",
      "_model_name": "ProgressStyleModel",
      "_view_count": null,
      "_view_module": "@jupyter-widgets/base",
      "_view_module_version": "1.2.0",
      "_view_name": "StyleView",
      "bar_color": null,
      "description_width": ""
     }
    },
    "6ee6613b41774276b22e633f6c72ed53": {
     "model_module": "@jupyter-widgets/controls",
     "model_module_version": "1.5.0",
     "model_name": "FloatProgressModel",
     "state": {
      "_dom_classes": [],
      "_model_module": "@jupyter-widgets/controls",
      "_model_module_version": "1.5.0",
      "_model_name": "FloatProgressModel",
      "_view_count": null,
      "_view_module": "@jupyter-widgets/controls",
      "_view_module_version": "1.5.0",
      "_view_name": "ProgressView",
      "bar_style": "success",
      "description": "",
      "description_tooltip": null,
      "layout": "IPY_MODEL_f2ba652a6bb54a56bedacc67ddd37bc6",
      "max": 466062,
      "min": 0,
      "orientation": "horizontal",
      "style": "IPY_MODEL_367f888e2bea4cb49ef7234f2842f1ef",
      "value": 466062
     }
    },
    "716a71aa693d47d0a00d3ed0b4418f19": {
     "model_module": "@jupyter-widgets/base",
     "model_module_version": "1.2.0",
     "model_name": "LayoutModel",
     "state": {
      "_model_module": "@jupyter-widgets/base",
      "_model_module_version": "1.2.0",
      "_model_name": "LayoutModel",
      "_view_count": null,
      "_view_module": "@jupyter-widgets/base",
      "_view_module_version": "1.2.0",
      "_view_name": "LayoutView",
      "align_content": null,
      "align_items": null,
      "align_self": null,
      "border": null,
      "bottom": null,
      "display": null,
      "flex": null,
      "flex_flow": null,
      "grid_area": null,
      "grid_auto_columns": null,
      "grid_auto_flow": null,
      "grid_auto_rows": null,
      "grid_column": null,
      "grid_gap": null,
      "grid_row": null,
      "grid_template_areas": null,
      "grid_template_columns": null,
      "grid_template_rows": null,
      "height": null,
      "justify_content": null,
      "justify_items": null,
      "left": null,
      "margin": null,
      "max_height": null,
      "max_width": null,
      "min_height": null,
      "min_width": null,
      "object_fit": null,
      "object_position": null,
      "order": null,
      "overflow": null,
      "overflow_x": null,
      "overflow_y": null,
      "padding": null,
      "right": null,
      "top": null,
      "visibility": null,
      "width": null
     }
    },
    "753fcb0a1ec6422590416c31d4f22024": {
     "model_module": "@jupyter-widgets/base",
     "model_module_version": "1.2.0",
     "model_name": "LayoutModel",
     "state": {
      "_model_module": "@jupyter-widgets/base",
      "_model_module_version": "1.2.0",
      "_model_name": "LayoutModel",
      "_view_count": null,
      "_view_module": "@jupyter-widgets/base",
      "_view_module_version": "1.2.0",
      "_view_name": "LayoutView",
      "align_content": null,
      "align_items": null,
      "align_self": null,
      "border": null,
      "bottom": null,
      "display": null,
      "flex": null,
      "flex_flow": null,
      "grid_area": null,
      "grid_auto_columns": null,
      "grid_auto_flow": null,
      "grid_auto_rows": null,
      "grid_column": null,
      "grid_gap": null,
      "grid_row": null,
      "grid_template_areas": null,
      "grid_template_columns": null,
      "grid_template_rows": null,
      "height": null,
      "justify_content": null,
      "justify_items": null,
      "left": null,
      "margin": null,
      "max_height": null,
      "max_width": null,
      "min_height": null,
      "min_width": null,
      "object_fit": null,
      "object_position": null,
      "order": null,
      "overflow": null,
      "overflow_x": null,
      "overflow_y": null,
      "padding": null,
      "right": null,
      "top": null,
      "visibility": null,
      "width": null
     }
    },
    "7e1821e352894d278e20d0600f361466": {
     "model_module": "@jupyter-widgets/controls",
     "model_module_version": "1.5.0",
     "model_name": "ProgressStyleModel",
     "state": {
      "_model_module": "@jupyter-widgets/controls",
      "_model_module_version": "1.5.0",
      "_model_name": "ProgressStyleModel",
      "_view_count": null,
      "_view_module": "@jupyter-widgets/base",
      "_view_module_version": "1.2.0",
      "_view_name": "StyleView",
      "bar_color": null,
      "description_width": ""
     }
    },
    "7ecc6a6bb52a406fb8f2f81b99255431": {
     "model_module": "@jupyter-widgets/controls",
     "model_module_version": "1.5.0",
     "model_name": "FloatProgressModel",
     "state": {
      "_dom_classes": [],
      "_model_module": "@jupyter-widgets/controls",
      "_model_module_version": "1.5.0",
      "_model_name": "FloatProgressModel",
      "_view_count": null,
      "_view_module": "@jupyter-widgets/controls",
      "_view_module_version": "1.5.0",
      "_view_name": "ProgressView",
      "bar_style": "success",
      "description": "",
      "description_tooltip": null,
      "layout": "IPY_MODEL_948c71f437094829bab763ccf338bd6b",
      "max": 440449768,
      "min": 0,
      "orientation": "horizontal",
      "style": "IPY_MODEL_24f5895fc7af495798005b582ecf0563",
      "value": 440449768
     }
    },
    "83afcc03ffad4b3f923badc9459f9919": {
     "model_module": "@jupyter-widgets/controls",
     "model_module_version": "1.5.0",
     "model_name": "DescriptionStyleModel",
     "state": {
      "_model_module": "@jupyter-widgets/controls",
      "_model_module_version": "1.5.0",
      "_model_name": "DescriptionStyleModel",
      "_view_count": null,
      "_view_module": "@jupyter-widgets/base",
      "_view_module_version": "1.2.0",
      "_view_name": "StyleView",
      "description_width": ""
     }
    },
    "88ea125569cc477caf329b32c819bbb9": {
     "model_module": "@jupyter-widgets/base",
     "model_module_version": "1.2.0",
     "model_name": "LayoutModel",
     "state": {
      "_model_module": "@jupyter-widgets/base",
      "_model_module_version": "1.2.0",
      "_model_name": "LayoutModel",
      "_view_count": null,
      "_view_module": "@jupyter-widgets/base",
      "_view_module_version": "1.2.0",
      "_view_name": "LayoutView",
      "align_content": null,
      "align_items": null,
      "align_self": null,
      "border": null,
      "bottom": null,
      "display": null,
      "flex": null,
      "flex_flow": null,
      "grid_area": null,
      "grid_auto_columns": null,
      "grid_auto_flow": null,
      "grid_auto_rows": null,
      "grid_column": null,
      "grid_gap": null,
      "grid_row": null,
      "grid_template_areas": null,
      "grid_template_columns": null,
      "grid_template_rows": null,
      "height": null,
      "justify_content": null,
      "justify_items": null,
      "left": null,
      "margin": null,
      "max_height": null,
      "max_width": null,
      "min_height": null,
      "min_width": null,
      "object_fit": null,
      "object_position": null,
      "order": null,
      "overflow": null,
      "overflow_x": null,
      "overflow_y": null,
      "padding": null,
      "right": null,
      "top": null,
      "visibility": null,
      "width": null
     }
    },
    "8e941cb818674e8c8460ef43241d79d1": {
     "model_module": "@jupyter-widgets/base",
     "model_module_version": "1.2.0",
     "model_name": "LayoutModel",
     "state": {
      "_model_module": "@jupyter-widgets/base",
      "_model_module_version": "1.2.0",
      "_model_name": "LayoutModel",
      "_view_count": null,
      "_view_module": "@jupyter-widgets/base",
      "_view_module_version": "1.2.0",
      "_view_name": "LayoutView",
      "align_content": null,
      "align_items": null,
      "align_self": null,
      "border": null,
      "bottom": null,
      "display": null,
      "flex": null,
      "flex_flow": null,
      "grid_area": null,
      "grid_auto_columns": null,
      "grid_auto_flow": null,
      "grid_auto_rows": null,
      "grid_column": null,
      "grid_gap": null,
      "grid_row": null,
      "grid_template_areas": null,
      "grid_template_columns": null,
      "grid_template_rows": null,
      "height": null,
      "justify_content": null,
      "justify_items": null,
      "left": null,
      "margin": null,
      "max_height": null,
      "max_width": null,
      "min_height": null,
      "min_width": null,
      "object_fit": null,
      "object_position": null,
      "order": null,
      "overflow": null,
      "overflow_x": null,
      "overflow_y": null,
      "padding": null,
      "right": null,
      "top": null,
      "visibility": null,
      "width": null
     }
    },
    "9418e14a8b1c4b1fa1a112044a9e4f45": {
     "model_module": "@jupyter-widgets/controls",
     "model_module_version": "1.5.0",
     "model_name": "DescriptionStyleModel",
     "state": {
      "_model_module": "@jupyter-widgets/controls",
      "_model_module_version": "1.5.0",
      "_model_name": "DescriptionStyleModel",
      "_view_count": null,
      "_view_module": "@jupyter-widgets/base",
      "_view_module_version": "1.2.0",
      "_view_name": "StyleView",
      "description_width": ""
     }
    },
    "948c71f437094829bab763ccf338bd6b": {
     "model_module": "@jupyter-widgets/base",
     "model_module_version": "1.2.0",
     "model_name": "LayoutModel",
     "state": {
      "_model_module": "@jupyter-widgets/base",
      "_model_module_version": "1.2.0",
      "_model_name": "LayoutModel",
      "_view_count": null,
      "_view_module": "@jupyter-widgets/base",
      "_view_module_version": "1.2.0",
      "_view_name": "LayoutView",
      "align_content": null,
      "align_items": null,
      "align_self": null,
      "border": null,
      "bottom": null,
      "display": null,
      "flex": null,
      "flex_flow": null,
      "grid_area": null,
      "grid_auto_columns": null,
      "grid_auto_flow": null,
      "grid_auto_rows": null,
      "grid_column": null,
      "grid_gap": null,
      "grid_row": null,
      "grid_template_areas": null,
      "grid_template_columns": null,
      "grid_template_rows": null,
      "height": null,
      "justify_content": null,
      "justify_items": null,
      "left": null,
      "margin": null,
      "max_height": null,
      "max_width": null,
      "min_height": null,
      "min_width": null,
      "object_fit": null,
      "object_position": null,
      "order": null,
      "overflow": null,
      "overflow_x": null,
      "overflow_y": null,
      "padding": null,
      "right": null,
      "top": null,
      "visibility": null,
      "width": null
     }
    },
    "9a09b1460e8c4be79a12c55d157730d8": {
     "model_module": "@jupyter-widgets/controls",
     "model_module_version": "1.5.0",
     "model_name": "FloatProgressModel",
     "state": {
      "_dom_classes": [],
      "_model_module": "@jupyter-widgets/controls",
      "_model_module_version": "1.5.0",
      "_model_name": "FloatProgressModel",
      "_view_count": null,
      "_view_module": "@jupyter-widgets/controls",
      "_view_module_version": "1.5.0",
      "_view_name": "ProgressView",
      "bar_style": "success",
      "description": "",
      "description_tooltip": null,
      "layout": "IPY_MODEL_ba5e1ee36c434fafbaf3fbaa7e9714f8",
      "max": 570,
      "min": 0,
      "orientation": "horizontal",
      "style": "IPY_MODEL_6d163bf390ab48b189127b91708b66ed",
      "value": 570
     }
    },
    "9a727d2ef5dd461391e470831f94d98f": {
     "model_module": "@jupyter-widgets/base",
     "model_module_version": "1.2.0",
     "model_name": "LayoutModel",
     "state": {
      "_model_module": "@jupyter-widgets/base",
      "_model_module_version": "1.2.0",
      "_model_name": "LayoutModel",
      "_view_count": null,
      "_view_module": "@jupyter-widgets/base",
      "_view_module_version": "1.2.0",
      "_view_name": "LayoutView",
      "align_content": null,
      "align_items": null,
      "align_self": null,
      "border": null,
      "bottom": null,
      "display": null,
      "flex": null,
      "flex_flow": null,
      "grid_area": null,
      "grid_auto_columns": null,
      "grid_auto_flow": null,
      "grid_auto_rows": null,
      "grid_column": null,
      "grid_gap": null,
      "grid_row": null,
      "grid_template_areas": null,
      "grid_template_columns": null,
      "grid_template_rows": null,
      "height": null,
      "justify_content": null,
      "justify_items": null,
      "left": null,
      "margin": null,
      "max_height": null,
      "max_width": null,
      "min_height": null,
      "min_width": null,
      "object_fit": null,
      "object_position": null,
      "order": null,
      "overflow": null,
      "overflow_x": null,
      "overflow_y": null,
      "padding": null,
      "right": null,
      "top": null,
      "visibility": null,
      "width": null
     }
    },
    "9b542b7ea8c1488790c9e4db3c5e7c61": {
     "model_module": "@jupyter-widgets/controls",
     "model_module_version": "1.5.0",
     "model_name": "FloatProgressModel",
     "state": {
      "_dom_classes": [],
      "_model_module": "@jupyter-widgets/controls",
      "_model_module_version": "1.5.0",
      "_model_name": "FloatProgressModel",
      "_view_count": null,
      "_view_module": "@jupyter-widgets/controls",
      "_view_module_version": "1.5.0",
      "_view_name": "ProgressView",
      "bar_style": "success",
      "description": "",
      "description_tooltip": null,
      "layout": "IPY_MODEL_e98e31a7e61e483186fd6c3459b4bc29",
      "max": 231508,
      "min": 0,
      "orientation": "horizontal",
      "style": "IPY_MODEL_7e1821e352894d278e20d0600f361466",
      "value": 231508
     }
    },
    "9c5ab3a9241f43468bb7a9d51aa6b697": {
     "model_module": "@jupyter-widgets/controls",
     "model_module_version": "1.5.0",
     "model_name": "HTMLModel",
     "state": {
      "_dom_classes": [],
      "_model_module": "@jupyter-widgets/controls",
      "_model_module_version": "1.5.0",
      "_model_name": "HTMLModel",
      "_view_count": null,
      "_view_module": "@jupyter-widgets/controls",
      "_view_module_version": "1.5.0",
      "_view_name": "HTMLView",
      "description": "",
      "description_tooltip": null,
      "layout": "IPY_MODEL_16f679d02d304383b16a970a4135193d",
      "placeholder": "​",
      "style": "IPY_MODEL_2baafbf1de434b99bce8f0dd72bb9480",
      "value": "tokenizer.json: 100%"
     }
    },
    "a75699cee802432ea600d881b5354221": {
     "model_module": "@jupyter-widgets/controls",
     "model_module_version": "1.5.0",
     "model_name": "HTMLModel",
     "state": {
      "_dom_classes": [],
      "_model_module": "@jupyter-widgets/controls",
      "_model_module_version": "1.5.0",
      "_model_name": "HTMLModel",
      "_view_count": null,
      "_view_module": "@jupyter-widgets/controls",
      "_view_module_version": "1.5.0",
      "_view_name": "HTMLView",
      "description": "",
      "description_tooltip": null,
      "layout": "IPY_MODEL_a7e3ff705a5b4b1f994d7568c56ca246",
      "placeholder": "​",
      "style": "IPY_MODEL_83afcc03ffad4b3f923badc9459f9919",
      "value": "config.json: 100%"
     }
    },
    "a7e3ff705a5b4b1f994d7568c56ca246": {
     "model_module": "@jupyter-widgets/base",
     "model_module_version": "1.2.0",
     "model_name": "LayoutModel",
     "state": {
      "_model_module": "@jupyter-widgets/base",
      "_model_module_version": "1.2.0",
      "_model_name": "LayoutModel",
      "_view_count": null,
      "_view_module": "@jupyter-widgets/base",
      "_view_module_version": "1.2.0",
      "_view_name": "LayoutView",
      "align_content": null,
      "align_items": null,
      "align_self": null,
      "border": null,
      "bottom": null,
      "display": null,
      "flex": null,
      "flex_flow": null,
      "grid_area": null,
      "grid_auto_columns": null,
      "grid_auto_flow": null,
      "grid_auto_rows": null,
      "grid_column": null,
      "grid_gap": null,
      "grid_row": null,
      "grid_template_areas": null,
      "grid_template_columns": null,
      "grid_template_rows": null,
      "height": null,
      "justify_content": null,
      "justify_items": null,
      "left": null,
      "margin": null,
      "max_height": null,
      "max_width": null,
      "min_height": null,
      "min_width": null,
      "object_fit": null,
      "object_position": null,
      "order": null,
      "overflow": null,
      "overflow_x": null,
      "overflow_y": null,
      "padding": null,
      "right": null,
      "top": null,
      "visibility": null,
      "width": null
     }
    },
    "b6b6c8b60b0945d7acba24d4e4d6f961": {
     "model_module": "@jupyter-widgets/controls",
     "model_module_version": "1.5.0",
     "model_name": "HBoxModel",
     "state": {
      "_dom_classes": [],
      "_model_module": "@jupyter-widgets/controls",
      "_model_module_version": "1.5.0",
      "_model_name": "HBoxModel",
      "_view_count": null,
      "_view_module": "@jupyter-widgets/controls",
      "_view_module_version": "1.5.0",
      "_view_name": "HBoxView",
      "box_style": "",
      "children": [
       "IPY_MODEL_ef2e4ef640c44b6bae784ec5512ccfd5",
       "IPY_MODEL_7ecc6a6bb52a406fb8f2f81b99255431",
       "IPY_MODEL_2c10abce36e54d78ae19577647852123"
      ],
      "layout": "IPY_MODEL_753fcb0a1ec6422590416c31d4f22024"
     }
    },
    "ba5e1ee36c434fafbaf3fbaa7e9714f8": {
     "model_module": "@jupyter-widgets/base",
     "model_module_version": "1.2.0",
     "model_name": "LayoutModel",
     "state": {
      "_model_module": "@jupyter-widgets/base",
      "_model_module_version": "1.2.0",
      "_model_name": "LayoutModel",
      "_view_count": null,
      "_view_module": "@jupyter-widgets/base",
      "_view_module_version": "1.2.0",
      "_view_name": "LayoutView",
      "align_content": null,
      "align_items": null,
      "align_self": null,
      "border": null,
      "bottom": null,
      "display": null,
      "flex": null,
      "flex_flow": null,
      "grid_area": null,
      "grid_auto_columns": null,
      "grid_auto_flow": null,
      "grid_auto_rows": null,
      "grid_column": null,
      "grid_gap": null,
      "grid_row": null,
      "grid_template_areas": null,
      "grid_template_columns": null,
      "grid_template_rows": null,
      "height": null,
      "justify_content": null,
      "justify_items": null,
      "left": null,
      "margin": null,
      "max_height": null,
      "max_width": null,
      "min_height": null,
      "min_width": null,
      "object_fit": null,
      "object_position": null,
      "order": null,
      "overflow": null,
      "overflow_x": null,
      "overflow_y": null,
      "padding": null,
      "right": null,
      "top": null,
      "visibility": null,
      "width": null
     }
    },
    "bdc0e65eaeca4926af2690bd1ab34d04": {
     "model_module": "@jupyter-widgets/controls",
     "model_module_version": "1.5.0",
     "model_name": "FloatProgressModel",
     "state": {
      "_dom_classes": [],
      "_model_module": "@jupyter-widgets/controls",
      "_model_module_version": "1.5.0",
      "_model_name": "FloatProgressModel",
      "_view_count": null,
      "_view_module": "@jupyter-widgets/controls",
      "_view_module_version": "1.5.0",
      "_view_name": "ProgressView",
      "bar_style": "success",
      "description": "",
      "description_tooltip": null,
      "layout": "IPY_MODEL_0b51d89ecdfd41bc8769e9f96a9829c5",
      "max": 48,
      "min": 0,
      "orientation": "horizontal",
      "style": "IPY_MODEL_245ad48689d94b88b221dff8203fd3d5",
      "value": 48
     }
    },
    "be7852964c3146d188c1556401fcce33": {
     "model_module": "@jupyter-widgets/controls",
     "model_module_version": "1.5.0",
     "model_name": "DescriptionStyleModel",
     "state": {
      "_model_module": "@jupyter-widgets/controls",
      "_model_module_version": "1.5.0",
      "_model_name": "DescriptionStyleModel",
      "_view_count": null,
      "_view_module": "@jupyter-widgets/base",
      "_view_module_version": "1.2.0",
      "_view_name": "StyleView",
      "description_width": ""
     }
    },
    "bf554937ebad466eb834586a73cff5b7": {
     "model_module": "@jupyter-widgets/controls",
     "model_module_version": "1.5.0",
     "model_name": "DescriptionStyleModel",
     "state": {
      "_model_module": "@jupyter-widgets/controls",
      "_model_module_version": "1.5.0",
      "_model_name": "DescriptionStyleModel",
      "_view_count": null,
      "_view_module": "@jupyter-widgets/base",
      "_view_module_version": "1.2.0",
      "_view_name": "StyleView",
      "description_width": ""
     }
    },
    "ce90088977ce409693f5f9c2cc0f6ad9": {
     "model_module": "@jupyter-widgets/base",
     "model_module_version": "1.2.0",
     "model_name": "LayoutModel",
     "state": {
      "_model_module": "@jupyter-widgets/base",
      "_model_module_version": "1.2.0",
      "_model_name": "LayoutModel",
      "_view_count": null,
      "_view_module": "@jupyter-widgets/base",
      "_view_module_version": "1.2.0",
      "_view_name": "LayoutView",
      "align_content": null,
      "align_items": null,
      "align_self": null,
      "border": null,
      "bottom": null,
      "display": null,
      "flex": null,
      "flex_flow": null,
      "grid_area": null,
      "grid_auto_columns": null,
      "grid_auto_flow": null,
      "grid_auto_rows": null,
      "grid_column": null,
      "grid_gap": null,
      "grid_row": null,
      "grid_template_areas": null,
      "grid_template_columns": null,
      "grid_template_rows": null,
      "height": null,
      "justify_content": null,
      "justify_items": null,
      "left": null,
      "margin": null,
      "max_height": null,
      "max_width": null,
      "min_height": null,
      "min_width": null,
      "object_fit": null,
      "object_position": null,
      "order": null,
      "overflow": null,
      "overflow_x": null,
      "overflow_y": null,
      "padding": null,
      "right": null,
      "top": null,
      "visibility": null,
      "width": null
     }
    },
    "dcb390e1fd714b8dbc833443d4b3dd0f": {
     "model_module": "@jupyter-widgets/controls",
     "model_module_version": "1.5.0",
     "model_name": "DescriptionStyleModel",
     "state": {
      "_model_module": "@jupyter-widgets/controls",
      "_model_module_version": "1.5.0",
      "_model_name": "DescriptionStyleModel",
      "_view_count": null,
      "_view_module": "@jupyter-widgets/base",
      "_view_module_version": "1.2.0",
      "_view_name": "StyleView",
      "description_width": ""
     }
    },
    "ddb2627168d145088cc782489efc42be": {
     "model_module": "@jupyter-widgets/controls",
     "model_module_version": "1.5.0",
     "model_name": "DescriptionStyleModel",
     "state": {
      "_model_module": "@jupyter-widgets/controls",
      "_model_module_version": "1.5.0",
      "_model_name": "DescriptionStyleModel",
      "_view_count": null,
      "_view_module": "@jupyter-widgets/base",
      "_view_module_version": "1.2.0",
      "_view_name": "StyleView",
      "description_width": ""
     }
    },
    "e2c8e16134264c1c8d121ef0925fa21a": {
     "model_module": "@jupyter-widgets/base",
     "model_module_version": "1.2.0",
     "model_name": "LayoutModel",
     "state": {
      "_model_module": "@jupyter-widgets/base",
      "_model_module_version": "1.2.0",
      "_model_name": "LayoutModel",
      "_view_count": null,
      "_view_module": "@jupyter-widgets/base",
      "_view_module_version": "1.2.0",
      "_view_name": "LayoutView",
      "align_content": null,
      "align_items": null,
      "align_self": null,
      "border": null,
      "bottom": null,
      "display": null,
      "flex": null,
      "flex_flow": null,
      "grid_area": null,
      "grid_auto_columns": null,
      "grid_auto_flow": null,
      "grid_auto_rows": null,
      "grid_column": null,
      "grid_gap": null,
      "grid_row": null,
      "grid_template_areas": null,
      "grid_template_columns": null,
      "grid_template_rows": null,
      "height": null,
      "justify_content": null,
      "justify_items": null,
      "left": null,
      "margin": null,
      "max_height": null,
      "max_width": null,
      "min_height": null,
      "min_width": null,
      "object_fit": null,
      "object_position": null,
      "order": null,
      "overflow": null,
      "overflow_x": null,
      "overflow_y": null,
      "padding": null,
      "right": null,
      "top": null,
      "visibility": null,
      "width": null
     }
    },
    "e8a2af96ec5743ae82a629a3b592119c": {
     "model_module": "@jupyter-widgets/controls",
     "model_module_version": "1.5.0",
     "model_name": "HTMLModel",
     "state": {
      "_dom_classes": [],
      "_model_module": "@jupyter-widgets/controls",
      "_model_module_version": "1.5.0",
      "_model_name": "HTMLModel",
      "_view_count": null,
      "_view_module": "@jupyter-widgets/controls",
      "_view_module_version": "1.5.0",
      "_view_name": "HTMLView",
      "description": "",
      "description_tooltip": null,
      "layout": "IPY_MODEL_716a71aa693d47d0a00d3ed0b4418f19",
      "placeholder": "​",
      "style": "IPY_MODEL_be7852964c3146d188c1556401fcce33",
      "value": " 466k/466k [00:00&lt;00:00, 7.84MB/s]"
     }
    },
    "e98e31a7e61e483186fd6c3459b4bc29": {
     "model_module": "@jupyter-widgets/base",
     "model_module_version": "1.2.0",
     "model_name": "LayoutModel",
     "state": {
      "_model_module": "@jupyter-widgets/base",
      "_model_module_version": "1.2.0",
      "_model_name": "LayoutModel",
      "_view_count": null,
      "_view_module": "@jupyter-widgets/base",
      "_view_module_version": "1.2.0",
      "_view_name": "LayoutView",
      "align_content": null,
      "align_items": null,
      "align_self": null,
      "border": null,
      "bottom": null,
      "display": null,
      "flex": null,
      "flex_flow": null,
      "grid_area": null,
      "grid_auto_columns": null,
      "grid_auto_flow": null,
      "grid_auto_rows": null,
      "grid_column": null,
      "grid_gap": null,
      "grid_row": null,
      "grid_template_areas": null,
      "grid_template_columns": null,
      "grid_template_rows": null,
      "height": null,
      "justify_content": null,
      "justify_items": null,
      "left": null,
      "margin": null,
      "max_height": null,
      "max_width": null,
      "min_height": null,
      "min_width": null,
      "object_fit": null,
      "object_position": null,
      "order": null,
      "overflow": null,
      "overflow_x": null,
      "overflow_y": null,
      "padding": null,
      "right": null,
      "top": null,
      "visibility": null,
      "width": null
     }
    },
    "ef2e4ef640c44b6bae784ec5512ccfd5": {
     "model_module": "@jupyter-widgets/controls",
     "model_module_version": "1.5.0",
     "model_name": "HTMLModel",
     "state": {
      "_dom_classes": [],
      "_model_module": "@jupyter-widgets/controls",
      "_model_module_version": "1.5.0",
      "_model_name": "HTMLModel",
      "_view_count": null,
      "_view_module": "@jupyter-widgets/controls",
      "_view_module_version": "1.5.0",
      "_view_name": "HTMLView",
      "description": "",
      "description_tooltip": null,
      "layout": "IPY_MODEL_03f2817eca57415fb19869582ac4ad0a",
      "placeholder": "​",
      "style": "IPY_MODEL_dcb390e1fd714b8dbc833443d4b3dd0f",
      "value": "model.safetensors: 100%"
     }
    },
    "ef463b210cfe4e5b9ff55a30e74bccbd": {
     "model_module": "@jupyter-widgets/controls",
     "model_module_version": "1.5.0",
     "model_name": "HBoxModel",
     "state": {
      "_dom_classes": [],
      "_model_module": "@jupyter-widgets/controls",
      "_model_module_version": "1.5.0",
      "_model_name": "HBoxModel",
      "_view_count": null,
      "_view_module": "@jupyter-widgets/controls",
      "_view_module_version": "1.5.0",
      "_view_name": "HBoxView",
      "box_style": "",
      "children": [
       "IPY_MODEL_9c5ab3a9241f43468bb7a9d51aa6b697",
       "IPY_MODEL_6ee6613b41774276b22e633f6c72ed53",
       "IPY_MODEL_e8a2af96ec5743ae82a629a3b592119c"
      ],
      "layout": "IPY_MODEL_88ea125569cc477caf329b32c819bbb9"
     }
    },
    "f2ba652a6bb54a56bedacc67ddd37bc6": {
     "model_module": "@jupyter-widgets/base",
     "model_module_version": "1.2.0",
     "model_name": "LayoutModel",
     "state": {
      "_model_module": "@jupyter-widgets/base",
      "_model_module_version": "1.2.0",
      "_model_name": "LayoutModel",
      "_view_count": null,
      "_view_module": "@jupyter-widgets/base",
      "_view_module_version": "1.2.0",
      "_view_name": "LayoutView",
      "align_content": null,
      "align_items": null,
      "align_self": null,
      "border": null,
      "bottom": null,
      "display": null,
      "flex": null,
      "flex_flow": null,
      "grid_area": null,
      "grid_auto_columns": null,
      "grid_auto_flow": null,
      "grid_auto_rows": null,
      "grid_column": null,
      "grid_gap": null,
      "grid_row": null,
      "grid_template_areas": null,
      "grid_template_columns": null,
      "grid_template_rows": null,
      "height": null,
      "justify_content": null,
      "justify_items": null,
      "left": null,
      "margin": null,
      "max_height": null,
      "max_width": null,
      "min_height": null,
      "min_width": null,
      "object_fit": null,
      "object_position": null,
      "order": null,
      "overflow": null,
      "overflow_x": null,
      "overflow_y": null,
      "padding": null,
      "right": null,
      "top": null,
      "visibility": null,
      "width": null
     }
    }
   }
  }
 },
 "nbformat": 4,
 "nbformat_minor": 4
}
